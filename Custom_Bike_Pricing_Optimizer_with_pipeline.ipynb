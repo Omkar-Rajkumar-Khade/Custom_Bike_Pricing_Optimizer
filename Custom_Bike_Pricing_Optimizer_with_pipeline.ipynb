{
 "cells": [
  {
   "cell_type": "code",
   "execution_count": 97,
   "id": "371f6e53",
   "metadata": {},
   "outputs": [],
   "source": [
    "import pandas as pd\n",
    "import matplotlib.pyplot as plt\n",
    "import numpy as np\n",
    "from sklearn.model_selection import train_test_split\n",
    "from sklearn.compose import ColumnTransformer\n",
    "from sklearn.preprocessing import OneHotEncoder\n",
    "from sklearn.ensemble import GradientBoostingRegressor\n",
    "import warnings\n",
    "from sklearn.exceptions import DataConversionWarning\n",
    "# ignore all scikit-learn warnings\n",
    "warnings.filterwarnings(action='ignore')\n",
    "from sklearn.preprocessing import StandardScaler\n"
   ]
  },
  {
   "attachments": {},
   "cell_type": "markdown",
   "id": "952a6277",
   "metadata": {},
   "source": [
    "#### Read Data"
   ]
  },
  {
   "cell_type": "code",
   "execution_count": 98,
   "id": "5ea699ee",
   "metadata": {},
   "outputs": [
    {
     "data": {
      "text/html": [
       "<div>\n",
       "<style scoped>\n",
       "    .dataframe tbody tr th:only-of-type {\n",
       "        vertical-align: middle;\n",
       "    }\n",
       "\n",
       "    .dataframe tbody tr th {\n",
       "        vertical-align: top;\n",
       "    }\n",
       "\n",
       "    .dataframe thead th {\n",
       "        text-align: right;\n",
       "    }\n",
       "</style>\n",
       "<table border=\"1\" class=\"dataframe\">\n",
       "  <thead>\n",
       "    <tr style=\"text-align: right;\">\n",
       "      <th></th>\n",
       "      <th>Unnamed: 0</th>\n",
       "      <th>name</th>\n",
       "      <th>brand</th>\n",
       "      <th>price</th>\n",
       "      <th>max power</th>\n",
       "      <th>max torque</th>\n",
       "      <th>cooling system</th>\n",
       "      <th>transmission</th>\n",
       "      <th>transmission type</th>\n",
       "      <th>displacement</th>\n",
       "      <th>...</th>\n",
       "      <th>front tyre pressure (rider &amp; pillion)</th>\n",
       "      <th>rear tyre pressure (rider &amp; pillion)</th>\n",
       "      <th>kerb weight</th>\n",
       "      <th>overall length</th>\n",
       "      <th>overall width</th>\n",
       "      <th>wheelbase</th>\n",
       "      <th>ground clearance</th>\n",
       "      <th>seat height</th>\n",
       "      <th>overall height</th>\n",
       "      <th>chassis type</th>\n",
       "    </tr>\n",
       "  </thead>\n",
       "  <tbody>\n",
       "    <tr>\n",
       "      <th>0</th>\n",
       "      <td>0</td>\n",
       "      <td>Royal Enfield Hunter 350</td>\n",
       "      <td>Royal Enfield</td>\n",
       "      <td>149900</td>\n",
       "      <td>20.2</td>\n",
       "      <td>27.0</td>\n",
       "      <td>air/oil cooled</td>\n",
       "      <td>5 speed manual</td>\n",
       "      <td>chain drive</td>\n",
       "      <td>349.0</td>\n",
       "      <td>...</td>\n",
       "      <td>29.0</td>\n",
       "      <td>33.0</td>\n",
       "      <td>177.0</td>\n",
       "      <td>2055</td>\n",
       "      <td>800.0</td>\n",
       "      <td>1370</td>\n",
       "      <td>150.0</td>\n",
       "      <td>790</td>\n",
       "      <td>1055</td>\n",
       "      <td>double-downtube frame</td>\n",
       "    </tr>\n",
       "    <tr>\n",
       "      <th>1</th>\n",
       "      <td>1</td>\n",
       "      <td>Royal Enfield Classic 350</td>\n",
       "      <td>Royal Enfield</td>\n",
       "      <td>190229</td>\n",
       "      <td>20.2</td>\n",
       "      <td>27.0</td>\n",
       "      <td>air/oil cooled</td>\n",
       "      <td>5 speed manual</td>\n",
       "      <td>chain drive</td>\n",
       "      <td>349.0</td>\n",
       "      <td>...</td>\n",
       "      <td>22.0</td>\n",
       "      <td>32.0</td>\n",
       "      <td>195.0</td>\n",
       "      <td>2145</td>\n",
       "      <td>785.0</td>\n",
       "      <td>1390</td>\n",
       "      <td>170.0</td>\n",
       "      <td>805</td>\n",
       "      <td>1090</td>\n",
       "      <td>twin downtube spine frame</td>\n",
       "    </tr>\n",
       "    <tr>\n",
       "      <th>2</th>\n",
       "      <td>2</td>\n",
       "      <td>Royal Enfield Bullet 350</td>\n",
       "      <td>Royal Enfield</td>\n",
       "      <td>157391</td>\n",
       "      <td>19.1</td>\n",
       "      <td>28.0</td>\n",
       "      <td>air cooled</td>\n",
       "      <td>5 speed manual</td>\n",
       "      <td>chain drive</td>\n",
       "      <td>346.0</td>\n",
       "      <td>...</td>\n",
       "      <td>22.0</td>\n",
       "      <td>32.0</td>\n",
       "      <td>186.0</td>\n",
       "      <td>2170</td>\n",
       "      <td>810.0</td>\n",
       "      <td>1395</td>\n",
       "      <td>135.0</td>\n",
       "      <td>800</td>\n",
       "      <td>1120</td>\n",
       "      <td>single downtube,using engine as stressed member</td>\n",
       "    </tr>\n",
       "    <tr>\n",
       "      <th>3</th>\n",
       "      <td>3</td>\n",
       "      <td>Royal Enfield Continental GT 650</td>\n",
       "      <td>Royal Enfield</td>\n",
       "      <td>304945</td>\n",
       "      <td>47.0</td>\n",
       "      <td>52.0</td>\n",
       "      <td>air/oil cooled</td>\n",
       "      <td>6 speed manual</td>\n",
       "      <td>chain drive</td>\n",
       "      <td>648.0</td>\n",
       "      <td>...</td>\n",
       "      <td>32.0</td>\n",
       "      <td>39.0</td>\n",
       "      <td>198.0</td>\n",
       "      <td>2122</td>\n",
       "      <td>744.0</td>\n",
       "      <td>1398</td>\n",
       "      <td>174.0</td>\n",
       "      <td>793</td>\n",
       "      <td>1024</td>\n",
       "      <td>steel tubular, double cradle frame</td>\n",
       "    </tr>\n",
       "    <tr>\n",
       "      <th>4</th>\n",
       "      <td>4</td>\n",
       "      <td>Royal Enfield Meteor 350</td>\n",
       "      <td>Royal Enfield</td>\n",
       "      <td>200924</td>\n",
       "      <td>20.2</td>\n",
       "      <td>27.0</td>\n",
       "      <td>air/oil cooled</td>\n",
       "      <td>5 speed manual</td>\n",
       "      <td>chain drive</td>\n",
       "      <td>349.0</td>\n",
       "      <td>...</td>\n",
       "      <td>32.0</td>\n",
       "      <td>36.0</td>\n",
       "      <td>191.0</td>\n",
       "      <td>2140</td>\n",
       "      <td>845.0</td>\n",
       "      <td>1400</td>\n",
       "      <td>170.0</td>\n",
       "      <td>765</td>\n",
       "      <td>1140</td>\n",
       "      <td>twin downtube spine frame</td>\n",
       "    </tr>\n",
       "  </tbody>\n",
       "</table>\n",
       "<p>5 rows × 45 columns</p>\n",
       "</div>"
      ],
      "text/plain": [
       "   Unnamed: 0                              name          brand   price  \\\n",
       "0           0          Royal Enfield Hunter 350  Royal Enfield  149900   \n",
       "1           1         Royal Enfield Classic 350  Royal Enfield  190229   \n",
       "2           2          Royal Enfield Bullet 350  Royal Enfield  157391   \n",
       "3           3  Royal Enfield Continental GT 650  Royal Enfield  304945   \n",
       "4           4          Royal Enfield Meteor 350  Royal Enfield  200924   \n",
       "\n",
       "   max power  max torque  cooling system    transmission transmission type  \\\n",
       "0       20.2        27.0  air/oil cooled  5 speed manual       chain drive   \n",
       "1       20.2        27.0  air/oil cooled  5 speed manual       chain drive   \n",
       "2       19.1        28.0      air cooled  5 speed manual       chain drive   \n",
       "3       47.0        52.0  air/oil cooled  6 speed manual       chain drive   \n",
       "4       20.2        27.0  air/oil cooled  5 speed manual       chain drive   \n",
       "\n",
       "   displacement  ...  front tyre pressure (rider & pillion)  \\\n",
       "0         349.0  ...                                   29.0   \n",
       "1         349.0  ...                                   22.0   \n",
       "2         346.0  ...                                   22.0   \n",
       "3         648.0  ...                                   32.0   \n",
       "4         349.0  ...                                   32.0   \n",
       "\n",
       "   rear tyre pressure (rider & pillion)  kerb weight  overall length  \\\n",
       "0                                  33.0        177.0            2055   \n",
       "1                                  32.0        195.0            2145   \n",
       "2                                  32.0        186.0            2170   \n",
       "3                                  39.0        198.0            2122   \n",
       "4                                  36.0        191.0            2140   \n",
       "\n",
       "  overall width wheelbase ground clearance  seat height  overall height  \\\n",
       "0         800.0      1370            150.0          790            1055   \n",
       "1         785.0      1390            170.0          805            1090   \n",
       "2         810.0      1395            135.0          800            1120   \n",
       "3         744.0      1398            174.0          793            1024   \n",
       "4         845.0      1400            170.0          765            1140   \n",
       "\n",
       "                                      chassis type  \n",
       "0                            double-downtube frame  \n",
       "1                        twin downtube spine frame  \n",
       "2  single downtube,using engine as stressed member  \n",
       "3               steel tubular, double cradle frame  \n",
       "4                        twin downtube spine frame  \n",
       "\n",
       "[5 rows x 45 columns]"
      ]
     },
     "execution_count": 98,
     "metadata": {},
     "output_type": "execute_result"
    }
   ],
   "source": [
    "df=pd.read_csv(\"./Dataset/bikesCleaned.csv\")\n",
    "df.head()"
   ]
  },
  {
   "attachments": {},
   "cell_type": "markdown",
   "id": "15002c8e",
   "metadata": {},
   "source": [
    "### Data Preprocessing\n",
    "#### Using pandas_profiling for EDA"
   ]
  },
  {
   "cell_type": "code",
   "execution_count": 99,
   "id": "6cc59b4d",
   "metadata": {},
   "outputs": [],
   "source": [
    "# from pandas_profiling import ProfileReport\n",
    "# prof = ProfileReport(df)\n",
    "# prof.to_file(output_file='output.html')"
   ]
  },
  {
   "cell_type": "code",
   "execution_count": 100,
   "id": "e00fed83",
   "metadata": {},
   "outputs": [
    {
     "data": {
      "text/plain": [
       "(173, 45)"
      ]
     },
     "execution_count": 100,
     "metadata": {},
     "output_type": "execute_result"
    }
   ],
   "source": [
    "df.shape"
   ]
  },
  {
   "cell_type": "code",
   "execution_count": 101,
   "id": "e0eca195",
   "metadata": {},
   "outputs": [
    {
     "data": {
      "text/plain": [
       "Unnamed: 0                               173\n",
       "name                                     173\n",
       "brand                                    173\n",
       "price                                    173\n",
       "max power                                173\n",
       "max torque                               173\n",
       "cooling system                           173\n",
       "transmission                             173\n",
       "transmission type                        173\n",
       "displacement                             173\n",
       "cylinders                                173\n",
       "bore                                     173\n",
       "stroke                                   173\n",
       "valves per cylinder                      173\n",
       "spark plugs                              173\n",
       "gear shifting pattern                    173\n",
       "clutch                                   173\n",
       "fuel tank capacity                       173\n",
       "mileage - arai                            38\n",
       "mileage - owner reported                 110\n",
       "top speed                                173\n",
       "braking system                           173\n",
       "front brake type                         173\n",
       "front brake size                         173\n",
       "rear tyre size                           173\n",
       "tyre type                                173\n",
       "radial tyres                             173\n",
       "rear brake type                          173\n",
       "rear brake size                          173\n",
       "wheel type                               173\n",
       "front wheel size                         173\n",
       "rear wheel size                          173\n",
       "front tyre size                          173\n",
       "front tyre pressure (rider)              173\n",
       "rear tyre pressure (rider)               173\n",
       "front tyre pressure (rider & pillion)    173\n",
       "rear tyre pressure (rider & pillion)     173\n",
       "kerb weight                              173\n",
       "overall length                           173\n",
       "overall width                            173\n",
       "wheelbase                                173\n",
       "ground clearance                         173\n",
       "seat height                              173\n",
       "overall height                           173\n",
       "chassis type                             173\n",
       "dtype: int64"
      ]
     },
     "execution_count": 101,
     "metadata": {},
     "output_type": "execute_result"
    }
   ],
   "source": [
    "df.count()"
   ]
  },
  {
   "cell_type": "code",
   "execution_count": 102,
   "id": "7c2810ce",
   "metadata": {},
   "outputs": [
    {
     "data": {
      "text/plain": [
       "price                                    1.000000\n",
       "max power                                0.899191\n",
       "max torque                               0.849956\n",
       "displacement                             0.761933\n",
       "cylinders                                0.773806\n",
       "bore                                     0.553585\n",
       "fuel tank capacity                       0.534874\n",
       "top speed                                0.804045\n",
       "rear brake size                          0.501127\n",
       "front tyre pressure (rider)              0.679589\n",
       "rear tyre pressure (rider)               0.600355\n",
       "front tyre pressure (rider & pillion)    0.690404\n",
       "kerb weight                              0.641060\n",
       "wheelbase                                0.605229\n",
       "Name: price, dtype: float64"
      ]
     },
     "execution_count": 102,
     "metadata": {},
     "output_type": "execute_result"
    }
   ],
   "source": [
    "# find correlation of price with other features\n",
    "h=df.corr()['price']\n",
    "# get features which has correlation of price with other features greater than 50%\n",
    "h = df.corr()['price']\n",
    "h = h[h > 0.5]\n",
    "h"
   ]
  },
  {
   "cell_type": "code",
   "execution_count": 103,
   "id": "940d5c37",
   "metadata": {},
   "outputs": [],
   "source": [
    "## selectd columns are name,brand,max power,max torque ,fuel tank capacity,top speed,kerb weight,overall_height,overall_lenght,overall_width,wheelbase,braking system\n",
    "columns=[\"name\",\"brand\",\"max power\",\"max torque\" ,\"fuel tank capacity\",\"top speed\",\"kerb weight\",\"overall height\",\"overall length\",\"overall width\",\"wheelbase\",\"front brake type\",\"price\"]"
   ]
  },
  {
   "cell_type": "code",
   "execution_count": 104,
   "id": "4c7b7379",
   "metadata": {},
   "outputs": [
    {
     "name": "stdout",
     "output_type": "stream",
     "text": [
      "['cylinders', 'rear wheel size', 'tyre type', 'seat height', 'rear brake size', 'chassis type', 'wheel type', 'clutch', 'valves per cylinder', 'rear tyre pressure (rider)', 'front brake size', 'rear brake type', 'Unnamed: 0', 'rear tyre size', 'mileage - owner reported', 'front tyre size', 'cooling system', 'front wheel size', 'bore', 'rear tyre pressure (rider & pillion)', 'stroke', 'gear shifting pattern', 'spark plugs', 'displacement', 'mileage - arai', 'ground clearance', 'transmission', 'transmission type', 'braking system', 'radial tyres', 'front tyre pressure (rider)', 'front tyre pressure (rider & pillion)']\n"
     ]
    }
   ],
   "source": [
    "# get remainnig columns other than selected columns\n",
    "remaining_cols = set(df.columns) - set(columns)\n",
    "print(list(remaining_cols))"
   ]
  },
  {
   "cell_type": "code",
   "execution_count": 105,
   "id": "7ce990e0",
   "metadata": {},
   "outputs": [
    {
     "data": {
      "text/html": [
       "<div>\n",
       "<style scoped>\n",
       "    .dataframe tbody tr th:only-of-type {\n",
       "        vertical-align: middle;\n",
       "    }\n",
       "\n",
       "    .dataframe tbody tr th {\n",
       "        vertical-align: top;\n",
       "    }\n",
       "\n",
       "    .dataframe thead th {\n",
       "        text-align: right;\n",
       "    }\n",
       "</style>\n",
       "<table border=\"1\" class=\"dataframe\">\n",
       "  <thead>\n",
       "    <tr style=\"text-align: right;\">\n",
       "      <th></th>\n",
       "      <th>name</th>\n",
       "      <th>brand</th>\n",
       "      <th>price</th>\n",
       "      <th>max power</th>\n",
       "      <th>max torque</th>\n",
       "      <th>fuel tank capacity</th>\n",
       "      <th>top speed</th>\n",
       "      <th>front brake type</th>\n",
       "      <th>kerb weight</th>\n",
       "      <th>overall length</th>\n",
       "      <th>overall width</th>\n",
       "      <th>wheelbase</th>\n",
       "      <th>overall height</th>\n",
       "    </tr>\n",
       "  </thead>\n",
       "  <tbody>\n",
       "    <tr>\n",
       "      <th>0</th>\n",
       "      <td>Royal Enfield Hunter 350</td>\n",
       "      <td>Royal Enfield</td>\n",
       "      <td>149900</td>\n",
       "      <td>20.20</td>\n",
       "      <td>27.0</td>\n",
       "      <td>13.0</td>\n",
       "      <td>114.0</td>\n",
       "      <td>disc</td>\n",
       "      <td>177.0</td>\n",
       "      <td>2055</td>\n",
       "      <td>800.0</td>\n",
       "      <td>1370</td>\n",
       "      <td>1055</td>\n",
       "    </tr>\n",
       "    <tr>\n",
       "      <th>1</th>\n",
       "      <td>Royal Enfield Classic 350</td>\n",
       "      <td>Royal Enfield</td>\n",
       "      <td>190229</td>\n",
       "      <td>20.20</td>\n",
       "      <td>27.0</td>\n",
       "      <td>13.0</td>\n",
       "      <td>114.0</td>\n",
       "      <td>disc</td>\n",
       "      <td>195.0</td>\n",
       "      <td>2145</td>\n",
       "      <td>785.0</td>\n",
       "      <td>1390</td>\n",
       "      <td>1090</td>\n",
       "    </tr>\n",
       "    <tr>\n",
       "      <th>2</th>\n",
       "      <td>Royal Enfield Bullet 350</td>\n",
       "      <td>Royal Enfield</td>\n",
       "      <td>157391</td>\n",
       "      <td>19.10</td>\n",
       "      <td>28.0</td>\n",
       "      <td>13.5</td>\n",
       "      <td>110.0</td>\n",
       "      <td>disc</td>\n",
       "      <td>186.0</td>\n",
       "      <td>2170</td>\n",
       "      <td>810.0</td>\n",
       "      <td>1395</td>\n",
       "      <td>1120</td>\n",
       "    </tr>\n",
       "    <tr>\n",
       "      <th>3</th>\n",
       "      <td>Royal Enfield Continental GT 650</td>\n",
       "      <td>Royal Enfield</td>\n",
       "      <td>304945</td>\n",
       "      <td>47.00</td>\n",
       "      <td>52.0</td>\n",
       "      <td>12.5</td>\n",
       "      <td>169.0</td>\n",
       "      <td>disc</td>\n",
       "      <td>198.0</td>\n",
       "      <td>2122</td>\n",
       "      <td>744.0</td>\n",
       "      <td>1398</td>\n",
       "      <td>1024</td>\n",
       "    </tr>\n",
       "    <tr>\n",
       "      <th>4</th>\n",
       "      <td>Royal Enfield Meteor 350</td>\n",
       "      <td>Royal Enfield</td>\n",
       "      <td>200924</td>\n",
       "      <td>20.20</td>\n",
       "      <td>27.0</td>\n",
       "      <td>15.0</td>\n",
       "      <td>112.0</td>\n",
       "      <td>disc</td>\n",
       "      <td>191.0</td>\n",
       "      <td>2140</td>\n",
       "      <td>845.0</td>\n",
       "      <td>1400</td>\n",
       "      <td>1140</td>\n",
       "    </tr>\n",
       "    <tr>\n",
       "      <th>...</th>\n",
       "      <td>...</td>\n",
       "      <td>...</td>\n",
       "      <td>...</td>\n",
       "      <td>...</td>\n",
       "      <td>...</td>\n",
       "      <td>...</td>\n",
       "      <td>...</td>\n",
       "      <td>...</td>\n",
       "      <td>...</td>\n",
       "      <td>...</td>\n",
       "      <td>...</td>\n",
       "      <td>...</td>\n",
       "      <td>...</td>\n",
       "    </tr>\n",
       "    <tr>\n",
       "      <th>168</th>\n",
       "      <td>Vespa SXL 125</td>\n",
       "      <td>Vespa</td>\n",
       "      <td>134313</td>\n",
       "      <td>9.78</td>\n",
       "      <td>9.6</td>\n",
       "      <td>7.4</td>\n",
       "      <td>90.0</td>\n",
       "      <td>disc</td>\n",
       "      <td>114.0</td>\n",
       "      <td>1770</td>\n",
       "      <td>690.0</td>\n",
       "      <td>1290</td>\n",
       "      <td>1140</td>\n",
       "    </tr>\n",
       "    <tr>\n",
       "      <th>169</th>\n",
       "      <td>Vespa SXL 150</td>\n",
       "      <td>Vespa</td>\n",
       "      <td>148261</td>\n",
       "      <td>10.32</td>\n",
       "      <td>10.6</td>\n",
       "      <td>7.4</td>\n",
       "      <td>95.0</td>\n",
       "      <td>disc</td>\n",
       "      <td>114.0</td>\n",
       "      <td>1770</td>\n",
       "      <td>690.0</td>\n",
       "      <td>1290</td>\n",
       "      <td>1140</td>\n",
       "    </tr>\n",
       "    <tr>\n",
       "      <th>170</th>\n",
       "      <td>Vespa VXL 125</td>\n",
       "      <td>Vespa</td>\n",
       "      <td>130438</td>\n",
       "      <td>9.78</td>\n",
       "      <td>9.6</td>\n",
       "      <td>7.4</td>\n",
       "      <td>90.0</td>\n",
       "      <td>disc</td>\n",
       "      <td>114.0</td>\n",
       "      <td>1770</td>\n",
       "      <td>690.0</td>\n",
       "      <td>1290</td>\n",
       "      <td>1140</td>\n",
       "    </tr>\n",
       "    <tr>\n",
       "      <th>171</th>\n",
       "      <td>Vespa VXL 150</td>\n",
       "      <td>Vespa</td>\n",
       "      <td>143895</td>\n",
       "      <td>10.32</td>\n",
       "      <td>10.6</td>\n",
       "      <td>7.4</td>\n",
       "      <td>95.0</td>\n",
       "      <td>disc</td>\n",
       "      <td>114.0</td>\n",
       "      <td>1770</td>\n",
       "      <td>690.0</td>\n",
       "      <td>1290</td>\n",
       "      <td>1140</td>\n",
       "    </tr>\n",
       "    <tr>\n",
       "      <th>172</th>\n",
       "      <td>Vespa Elegante 150</td>\n",
       "      <td>Vespa</td>\n",
       "      <td>155927</td>\n",
       "      <td>10.32</td>\n",
       "      <td>10.6</td>\n",
       "      <td>7.4</td>\n",
       "      <td>100.0</td>\n",
       "      <td>disc</td>\n",
       "      <td>114.0</td>\n",
       "      <td>1770</td>\n",
       "      <td>690.0</td>\n",
       "      <td>1290</td>\n",
       "      <td>1140</td>\n",
       "    </tr>\n",
       "  </tbody>\n",
       "</table>\n",
       "<p>173 rows × 13 columns</p>\n",
       "</div>"
      ],
      "text/plain": [
       "                                 name          brand   price  max power  \\\n",
       "0            Royal Enfield Hunter 350  Royal Enfield  149900      20.20   \n",
       "1           Royal Enfield Classic 350  Royal Enfield  190229      20.20   \n",
       "2            Royal Enfield Bullet 350  Royal Enfield  157391      19.10   \n",
       "3    Royal Enfield Continental GT 650  Royal Enfield  304945      47.00   \n",
       "4            Royal Enfield Meteor 350  Royal Enfield  200924      20.20   \n",
       "..                                ...            ...     ...        ...   \n",
       "168                     Vespa SXL 125          Vespa  134313       9.78   \n",
       "169                     Vespa SXL 150          Vespa  148261      10.32   \n",
       "170                     Vespa VXL 125          Vespa  130438       9.78   \n",
       "171                     Vespa VXL 150          Vespa  143895      10.32   \n",
       "172                Vespa Elegante 150          Vespa  155927      10.32   \n",
       "\n",
       "     max torque  fuel tank capacity  top speed front brake type  kerb weight  \\\n",
       "0          27.0                13.0      114.0             disc        177.0   \n",
       "1          27.0                13.0      114.0             disc        195.0   \n",
       "2          28.0                13.5      110.0             disc        186.0   \n",
       "3          52.0                12.5      169.0             disc        198.0   \n",
       "4          27.0                15.0      112.0             disc        191.0   \n",
       "..          ...                 ...        ...              ...          ...   \n",
       "168         9.6                 7.4       90.0             disc        114.0   \n",
       "169        10.6                 7.4       95.0             disc        114.0   \n",
       "170         9.6                 7.4       90.0             disc        114.0   \n",
       "171        10.6                 7.4       95.0             disc        114.0   \n",
       "172        10.6                 7.4      100.0             disc        114.0   \n",
       "\n",
       "     overall length  overall width  wheelbase  overall height  \n",
       "0              2055          800.0       1370            1055  \n",
       "1              2145          785.0       1390            1090  \n",
       "2              2170          810.0       1395            1120  \n",
       "3              2122          744.0       1398            1024  \n",
       "4              2140          845.0       1400            1140  \n",
       "..              ...            ...        ...             ...  \n",
       "168            1770          690.0       1290            1140  \n",
       "169            1770          690.0       1290            1140  \n",
       "170            1770          690.0       1290            1140  \n",
       "171            1770          690.0       1290            1140  \n",
       "172            1770          690.0       1290            1140  \n",
       "\n",
       "[173 rows x 13 columns]"
      ]
     },
     "execution_count": 105,
     "metadata": {},
     "output_type": "execute_result"
    }
   ],
   "source": [
    "# drop all remaining columns\n",
    "df_updated = df.drop(remaining_cols, axis=1)\n",
    "df_updated"
   ]
  },
  {
   "cell_type": "code",
   "execution_count": 106,
   "id": "ea48e376",
   "metadata": {},
   "outputs": [
    {
     "name": "stdout",
     "output_type": "stream",
     "text": [
      "<class 'pandas.core.frame.DataFrame'>\n",
      "RangeIndex: 173 entries, 0 to 172\n",
      "Data columns (total 13 columns):\n",
      " #   Column              Non-Null Count  Dtype  \n",
      "---  ------              --------------  -----  \n",
      " 0   name                173 non-null    object \n",
      " 1   brand               173 non-null    object \n",
      " 2   price               173 non-null    int64  \n",
      " 3   max power           173 non-null    float64\n",
      " 4   max torque          173 non-null    float64\n",
      " 5   fuel tank capacity  173 non-null    float64\n",
      " 6   top speed           173 non-null    float64\n",
      " 7   front brake type    173 non-null    object \n",
      " 8   kerb weight         173 non-null    float64\n",
      " 9   overall length      173 non-null    int64  \n",
      " 10  overall width       173 non-null    float64\n",
      " 11  wheelbase           173 non-null    int64  \n",
      " 12  overall height      173 non-null    int64  \n",
      "dtypes: float64(6), int64(4), object(3)\n",
      "memory usage: 17.7+ KB\n"
     ]
    }
   ],
   "source": [
    "df_updated.info()"
   ]
  },
  {
   "cell_type": "code",
   "execution_count": 107,
   "id": "78fbfb63",
   "metadata": {},
   "outputs": [
    {
     "name": "stdout",
     "output_type": "stream",
     "text": [
      "['disc' 'drum']\n",
      "Unique Count :  2\n"
     ]
    }
   ],
   "source": [
    "#unique values of front brake type feature\n",
    "print(df_updated[\"front brake type\"].unique())\n",
    "print(\"Unique Count : \",df_updated[\"front brake type\"].nunique())"
   ]
  },
  {
   "cell_type": "code",
   "execution_count": 108,
   "id": "11cc8564",
   "metadata": {},
   "outputs": [
    {
     "name": "stdout",
     "output_type": "stream",
     "text": [
      "['Royal Enfield' 'TVS' 'Hero' 'Bajaj' 'Honda' 'Yamaha' 'Suzuki' 'KTM'\n",
      " 'Jawa' 'Kawasaki' 'Aprilia' 'Benelli' 'CFMoto' 'Ducati' 'Husqvarna'\n",
      " 'Triumph' 'Vespa']\n",
      "Unique Count :  17\n"
     ]
    }
   ],
   "source": [
    "#unique values of brand feature\n",
    "print(df_updated[\"brand\"].unique())\n",
    "print(\"Unique Count : \",df_updated[\"brand\"].nunique())"
   ]
  },
  {
   "cell_type": "code",
   "execution_count": 109,
   "id": "4ce6e7c7",
   "metadata": {},
   "outputs": [
    {
     "name": "stdout",
     "output_type": "stream",
     "text": [
      "['Royal Enfield Hunter 350' 'Royal Enfield Classic 350'\n",
      " 'Royal Enfield Bullet 350' 'Royal Enfield Continental GT 650'\n",
      " 'Royal Enfield Meteor 350' 'Royal Enfield Himalayan'\n",
      " 'Royal Enfield Interceptor 650' 'Royal Enfield Scram 411'\n",
      " 'TVS Raider 125' 'Apache' 'TVS Ronin' 'TVS Ntorq 125' 'TVS Sport'\n",
      " 'TVS Jupiter' 'TVS Jupiter 125' 'TVS Star City Plus' 'TVS Radeon'\n",
      " 'TVS Scooty Pep Plus' 'TVS XL100 Heavy Duty' 'TVS Scooty Zest 110'\n",
      " 'TVS XL100 Comfort' 'Splendor' 'Hero Splendor Plus Xtec' 'Hero HF Deluxe'\n",
      " 'Hero Xtreme 160R' 'Hero Glamour' 'Hero Passion Pro' 'Hero Xpulse 200 4V'\n",
      " 'Hero Pleasure +' 'Hero Passion Xtec' 'Hero Glamour Xtec'\n",
      " 'Hero Xpulse 200T 4V' 'Hero Xtreme 200S' 'Hero Pleasure + Xtec'\n",
      " 'Hero Maestro Edge 125' 'Hero Destini 125 Xtec' 'Hero Maestro Edge 110'\n",
      " 'Pulsar' 'Platina' 'Bajaj Dominar 400' 'Bajaj Dominar 250' 'Bajaj CT 110'\n",
      " 'Bajaj CT 125X' 'Avenger' 'Honda SP 125' 'Activa' 'Honda Shine'\n",
      " 'Honda Unicorn' 'Honda Dio' 'Honda Hornet 2.0' 'Honda Hness CB350'\n",
      " 'Honda Livo' 'Honda X-Blade' 'Honda CB300F' 'Honda CB350RS'\n",
      " 'Honda CB300R' 'Honda CD 110 Dream' 'CBR' 'Honda CB200X' 'Honda Grazia'\n",
      " 'Honda Goldwing' 'Honda Africa Twin' 'Honda CB650R' 'Yamaha MT 15 V2'\n",
      " 'Yamaha R15 V4' 'Yamaha FZ S FI' 'Yamaha FZ FI' 'Yamaha R15S'\n",
      " 'Yamaha FZ X' 'Yamaha FZ25' 'Yamaha Ray ZR 125' 'Yamaha Fascino 125'\n",
      " 'Yamaha Aerox 155' 'Suzuki Access 125' 'Suzuki Gixxer SF'\n",
      " 'Suzuki Burgman Street 125' 'Suzuki Gixxer' 'Suzuki Gixxer SF 250'\n",
      " 'Suzuki Gixxer 250' 'Suzuki Katana' 'Suzuki V-Strom 650 XT' 'Duke'\n",
      " 'KTM 390 Adventure' 'KTM 250 Adventure' 'Jawa 42' 'Jawa Standard' 'Ninja'\n",
      " 'Kawasaki Z900' 'Kawasaki Ninja 650' 'Kawasaki Z650' 'Kawasaki Vulcan S'\n",
      " 'Kawasaki Z H2' 'Kawasaki Z650RS' 'Kawasaki Versys 650' 'Kawasaki W800'\n",
      " 'Kawasaki Versys 1000' 'SR' 'Aprilia Storm 125' 'Aprilia SXR 160'\n",
      " 'Aprilia SXR 125' 'Aprilia RSV4 1100 Factory' 'Aprilia Tuono Factory'\n",
      " 'Benelli Imperiale 400' 'Benelli TRK 251' 'Benelli 502C'\n",
      " 'Benelli TRK 502X' 'Benelli TRK 502' 'Benelli Leoncino 500'\n",
      " 'CFMoto 300NK' 'CFMoto 650NK' 'CFMoto 650GT' 'CFMoto 650MT'\n",
      " 'Ducati Panigale V4' 'Ducati SuperSport' 'Ducati Monster BS6' 'Scrambler'\n",
      " 'Ducati Streetfighter V4' 'Ducati Panigale V2' 'Ducati XDiavel'\n",
      " 'Ducati Streetfighter V2' 'Ducati Diavel 1260' 'Ducati Hypermotard 950'\n",
      " 'Ducati Multistrada V4' 'Ducati Multistrada V2'\n",
      " 'Ducati Scrambler Desert Sled' 'Husqvarna Svartpilen 250'\n",
      " 'Husqvarna Vitpilen 250' 'Triumph Rocket 3' 'Triumph Trident 660'\n",
      " 'Triumph Speed Triple 1200 RS' 'Triumph Tiger 900' 'Bonneville'\n",
      " 'Triumph Speed Twin 900' 'Triumph Scrambler 900' 'Triumph Speed Twin'\n",
      " 'Triumph Bonneville T100' 'Triumph Tiger 850 Sport' 'Vespa ZX 125'\n",
      " 'Vespa SXL 125' 'Vespa SXL 150' 'Vespa VXL 125' 'Vespa VXL 150'\n",
      " 'Vespa Elegante 150']\n",
      "Unique Count :  143\n"
     ]
    }
   ],
   "source": [
    "#unique values of name feature\n",
    "print(df_updated[\"name\"].unique())\n",
    "print(\"Unique Count : \",df_updated[\"name\"].nunique())"
   ]
  },
  {
   "cell_type": "code",
   "execution_count": 110,
   "id": "f5683444",
   "metadata": {},
   "outputs": [
    {
     "data": {
      "text/plain": [
       "name                  0\n",
       "brand                 0\n",
       "price                 0\n",
       "max power             0\n",
       "max torque            0\n",
       "fuel tank capacity    0\n",
       "top speed             0\n",
       "front brake type      0\n",
       "kerb weight           0\n",
       "overall length        0\n",
       "overall width         0\n",
       "wheelbase             0\n",
       "overall height        0\n",
       "dtype: int64"
      ]
     },
     "execution_count": 110,
     "metadata": {},
     "output_type": "execute_result"
    }
   ],
   "source": [
    "#Null value check\n",
    "df_updated.isnull().sum()"
   ]
  },
  {
   "attachments": {},
   "cell_type": "markdown",
   "id": "3817fd91",
   "metadata": {},
   "source": [
    "### Split the data"
   ]
  },
  {
   "cell_type": "code",
   "execution_count": 111,
   "id": "6ebf28c7",
   "metadata": {},
   "outputs": [],
   "source": [
    "#define X and Y\n",
    "X=df_updated.drop(columns=['price'])\n",
    "y=df_updated['price']"
   ]
  },
  {
   "cell_type": "code",
   "execution_count": 112,
   "id": "06cb4586",
   "metadata": {},
   "outputs": [
    {
     "data": {
      "text/html": [
       "<div>\n",
       "<style scoped>\n",
       "    .dataframe tbody tr th:only-of-type {\n",
       "        vertical-align: middle;\n",
       "    }\n",
       "\n",
       "    .dataframe tbody tr th {\n",
       "        vertical-align: top;\n",
       "    }\n",
       "\n",
       "    .dataframe thead th {\n",
       "        text-align: right;\n",
       "    }\n",
       "</style>\n",
       "<table border=\"1\" class=\"dataframe\">\n",
       "  <thead>\n",
       "    <tr style=\"text-align: right;\">\n",
       "      <th></th>\n",
       "      <th>name</th>\n",
       "      <th>brand</th>\n",
       "      <th>max power</th>\n",
       "      <th>max torque</th>\n",
       "      <th>fuel tank capacity</th>\n",
       "      <th>top speed</th>\n",
       "      <th>front brake type</th>\n",
       "      <th>kerb weight</th>\n",
       "      <th>overall length</th>\n",
       "      <th>overall width</th>\n",
       "      <th>wheelbase</th>\n",
       "      <th>overall height</th>\n",
       "    </tr>\n",
       "  </thead>\n",
       "  <tbody>\n",
       "    <tr>\n",
       "      <th>0</th>\n",
       "      <td>Royal Enfield Hunter 350</td>\n",
       "      <td>Royal Enfield</td>\n",
       "      <td>20.20</td>\n",
       "      <td>27.0</td>\n",
       "      <td>13.0</td>\n",
       "      <td>114.0</td>\n",
       "      <td>disc</td>\n",
       "      <td>177.0</td>\n",
       "      <td>2055</td>\n",
       "      <td>800.0</td>\n",
       "      <td>1370</td>\n",
       "      <td>1055</td>\n",
       "    </tr>\n",
       "    <tr>\n",
       "      <th>1</th>\n",
       "      <td>Royal Enfield Classic 350</td>\n",
       "      <td>Royal Enfield</td>\n",
       "      <td>20.20</td>\n",
       "      <td>27.0</td>\n",
       "      <td>13.0</td>\n",
       "      <td>114.0</td>\n",
       "      <td>disc</td>\n",
       "      <td>195.0</td>\n",
       "      <td>2145</td>\n",
       "      <td>785.0</td>\n",
       "      <td>1390</td>\n",
       "      <td>1090</td>\n",
       "    </tr>\n",
       "    <tr>\n",
       "      <th>2</th>\n",
       "      <td>Royal Enfield Bullet 350</td>\n",
       "      <td>Royal Enfield</td>\n",
       "      <td>19.10</td>\n",
       "      <td>28.0</td>\n",
       "      <td>13.5</td>\n",
       "      <td>110.0</td>\n",
       "      <td>disc</td>\n",
       "      <td>186.0</td>\n",
       "      <td>2170</td>\n",
       "      <td>810.0</td>\n",
       "      <td>1395</td>\n",
       "      <td>1120</td>\n",
       "    </tr>\n",
       "    <tr>\n",
       "      <th>3</th>\n",
       "      <td>Royal Enfield Continental GT 650</td>\n",
       "      <td>Royal Enfield</td>\n",
       "      <td>47.00</td>\n",
       "      <td>52.0</td>\n",
       "      <td>12.5</td>\n",
       "      <td>169.0</td>\n",
       "      <td>disc</td>\n",
       "      <td>198.0</td>\n",
       "      <td>2122</td>\n",
       "      <td>744.0</td>\n",
       "      <td>1398</td>\n",
       "      <td>1024</td>\n",
       "    </tr>\n",
       "    <tr>\n",
       "      <th>4</th>\n",
       "      <td>Royal Enfield Meteor 350</td>\n",
       "      <td>Royal Enfield</td>\n",
       "      <td>20.20</td>\n",
       "      <td>27.0</td>\n",
       "      <td>15.0</td>\n",
       "      <td>112.0</td>\n",
       "      <td>disc</td>\n",
       "      <td>191.0</td>\n",
       "      <td>2140</td>\n",
       "      <td>845.0</td>\n",
       "      <td>1400</td>\n",
       "      <td>1140</td>\n",
       "    </tr>\n",
       "    <tr>\n",
       "      <th>...</th>\n",
       "      <td>...</td>\n",
       "      <td>...</td>\n",
       "      <td>...</td>\n",
       "      <td>...</td>\n",
       "      <td>...</td>\n",
       "      <td>...</td>\n",
       "      <td>...</td>\n",
       "      <td>...</td>\n",
       "      <td>...</td>\n",
       "      <td>...</td>\n",
       "      <td>...</td>\n",
       "      <td>...</td>\n",
       "    </tr>\n",
       "    <tr>\n",
       "      <th>168</th>\n",
       "      <td>Vespa SXL 125</td>\n",
       "      <td>Vespa</td>\n",
       "      <td>9.78</td>\n",
       "      <td>9.6</td>\n",
       "      <td>7.4</td>\n",
       "      <td>90.0</td>\n",
       "      <td>disc</td>\n",
       "      <td>114.0</td>\n",
       "      <td>1770</td>\n",
       "      <td>690.0</td>\n",
       "      <td>1290</td>\n",
       "      <td>1140</td>\n",
       "    </tr>\n",
       "    <tr>\n",
       "      <th>169</th>\n",
       "      <td>Vespa SXL 150</td>\n",
       "      <td>Vespa</td>\n",
       "      <td>10.32</td>\n",
       "      <td>10.6</td>\n",
       "      <td>7.4</td>\n",
       "      <td>95.0</td>\n",
       "      <td>disc</td>\n",
       "      <td>114.0</td>\n",
       "      <td>1770</td>\n",
       "      <td>690.0</td>\n",
       "      <td>1290</td>\n",
       "      <td>1140</td>\n",
       "    </tr>\n",
       "    <tr>\n",
       "      <th>170</th>\n",
       "      <td>Vespa VXL 125</td>\n",
       "      <td>Vespa</td>\n",
       "      <td>9.78</td>\n",
       "      <td>9.6</td>\n",
       "      <td>7.4</td>\n",
       "      <td>90.0</td>\n",
       "      <td>disc</td>\n",
       "      <td>114.0</td>\n",
       "      <td>1770</td>\n",
       "      <td>690.0</td>\n",
       "      <td>1290</td>\n",
       "      <td>1140</td>\n",
       "    </tr>\n",
       "    <tr>\n",
       "      <th>171</th>\n",
       "      <td>Vespa VXL 150</td>\n",
       "      <td>Vespa</td>\n",
       "      <td>10.32</td>\n",
       "      <td>10.6</td>\n",
       "      <td>7.4</td>\n",
       "      <td>95.0</td>\n",
       "      <td>disc</td>\n",
       "      <td>114.0</td>\n",
       "      <td>1770</td>\n",
       "      <td>690.0</td>\n",
       "      <td>1290</td>\n",
       "      <td>1140</td>\n",
       "    </tr>\n",
       "    <tr>\n",
       "      <th>172</th>\n",
       "      <td>Vespa Elegante 150</td>\n",
       "      <td>Vespa</td>\n",
       "      <td>10.32</td>\n",
       "      <td>10.6</td>\n",
       "      <td>7.4</td>\n",
       "      <td>100.0</td>\n",
       "      <td>disc</td>\n",
       "      <td>114.0</td>\n",
       "      <td>1770</td>\n",
       "      <td>690.0</td>\n",
       "      <td>1290</td>\n",
       "      <td>1140</td>\n",
       "    </tr>\n",
       "  </tbody>\n",
       "</table>\n",
       "<p>173 rows × 12 columns</p>\n",
       "</div>"
      ],
      "text/plain": [
       "                                 name          brand  max power  max torque  \\\n",
       "0            Royal Enfield Hunter 350  Royal Enfield      20.20        27.0   \n",
       "1           Royal Enfield Classic 350  Royal Enfield      20.20        27.0   \n",
       "2            Royal Enfield Bullet 350  Royal Enfield      19.10        28.0   \n",
       "3    Royal Enfield Continental GT 650  Royal Enfield      47.00        52.0   \n",
       "4            Royal Enfield Meteor 350  Royal Enfield      20.20        27.0   \n",
       "..                                ...            ...        ...         ...   \n",
       "168                     Vespa SXL 125          Vespa       9.78         9.6   \n",
       "169                     Vespa SXL 150          Vespa      10.32        10.6   \n",
       "170                     Vespa VXL 125          Vespa       9.78         9.6   \n",
       "171                     Vespa VXL 150          Vespa      10.32        10.6   \n",
       "172                Vespa Elegante 150          Vespa      10.32        10.6   \n",
       "\n",
       "     fuel tank capacity  top speed front brake type  kerb weight  \\\n",
       "0                  13.0      114.0             disc        177.0   \n",
       "1                  13.0      114.0             disc        195.0   \n",
       "2                  13.5      110.0             disc        186.0   \n",
       "3                  12.5      169.0             disc        198.0   \n",
       "4                  15.0      112.0             disc        191.0   \n",
       "..                  ...        ...              ...          ...   \n",
       "168                 7.4       90.0             disc        114.0   \n",
       "169                 7.4       95.0             disc        114.0   \n",
       "170                 7.4       90.0             disc        114.0   \n",
       "171                 7.4       95.0             disc        114.0   \n",
       "172                 7.4      100.0             disc        114.0   \n",
       "\n",
       "     overall length  overall width  wheelbase  overall height  \n",
       "0              2055          800.0       1370            1055  \n",
       "1              2145          785.0       1390            1090  \n",
       "2              2170          810.0       1395            1120  \n",
       "3              2122          744.0       1398            1024  \n",
       "4              2140          845.0       1400            1140  \n",
       "..              ...            ...        ...             ...  \n",
       "168            1770          690.0       1290            1140  \n",
       "169            1770          690.0       1290            1140  \n",
       "170            1770          690.0       1290            1140  \n",
       "171            1770          690.0       1290            1140  \n",
       "172            1770          690.0       1290            1140  \n",
       "\n",
       "[173 rows x 12 columns]"
      ]
     },
     "execution_count": 112,
     "metadata": {},
     "output_type": "execute_result"
    }
   ],
   "source": [
    "X"
   ]
  },
  {
   "cell_type": "code",
   "execution_count": 113,
   "id": "7fa9db31",
   "metadata": {},
   "outputs": [],
   "source": [
    "# train/test/split\n",
    "X_train,X_test,y_train,y_test = train_test_split(X,y,test_size=0.2,random_state=42)\n"
   ]
  },
  {
   "attachments": {},
   "cell_type": "markdown",
   "id": "6372c70e",
   "metadata": {},
   "source": [
    "### Using ColumnTransformer to perform columnwise transformation"
   ]
  },
  {
   "cell_type": "code",
   "execution_count": 114,
   "id": "05f007dc",
   "metadata": {},
   "outputs": [],
   "source": [
    "from sklearn.compose import ColumnTransformer"
   ]
  },
  {
   "cell_type": "code",
   "execution_count": 115,
   "id": "9f7cbd4b",
   "metadata": {},
   "outputs": [],
   "source": [
    "# one hot encoding on name,brand,front_brake_type columns\n",
    "trf1_RFR = ColumnTransformer([ \n",
    "    ('ohe_name', OneHotEncoder(sparse=False, handle_unknown='ignore'), [0]),\n",
    "    ('ohe_brand', OneHotEncoder(sparse=False, handle_unknown='ignore'), [1]),\n",
    "    ('ohe_front_brake_type', OneHotEncoder(sparse=False, handle_unknown='ignore'), [6]),\n",
    "    ('scaling', StandardScaler(), [2, 3, 4, 5, 7, 8, 9, 10])\n",
    "])\n"
   ]
  },
  {
   "cell_type": "code",
   "execution_count": 116,
   "id": "250a803a",
   "metadata": {},
   "outputs": [],
   "source": [
    "# # one hot encoding on name,brand,front_brake_type columns\n",
    "# from sklearn.preprocessing import StandardScaler\n",
    "\n",
    "# trf1_DTR = ColumnTransformer([ \n",
    "#     ('ohe_name', OneHotEncoder(sparse=False, handle_unknown='ignore'), [0]),\n",
    "#     ('ohe_brand', OneHotEncoder(sparse=False, handle_unknown='ignore'), [1]),\n",
    "#     ('ohe_front_brake_type', OneHotEncoder(sparse=False, handle_unknown='ignore'), [6]),\n",
    "#     ('scaling', StandardScaler(), [2, 3, 4, 5, 7, 8, 9, 10])\n",
    "# ], remainder='passthrough')"
   ]
  },
  {
   "cell_type": "code",
   "execution_count": 117,
   "id": "a984e170",
   "metadata": {},
   "outputs": [],
   "source": [
    "\n",
    "trf1_DTR = ColumnTransformer([\n",
    "    ('onehot', OneHotEncoder(sparse=False, handle_unknown='ignore'), [0, 1, 6]),\n",
    "    ('scaling', StandardScaler(), [2, 3, 4, 5, 7, 8, 9, 10])\n",
    "])"
   ]
  },
  {
   "attachments": {},
   "cell_type": "markdown",
   "id": "93a6010b",
   "metadata": {},
   "source": [
    "### Train the model with pipeline"
   ]
  },
  {
   "cell_type": "code",
   "execution_count": 118,
   "id": "1caf12ff",
   "metadata": {},
   "outputs": [],
   "source": [
    "# train the model\n",
    "from sklearn.ensemble import RandomForestRegressor\n",
    "trf2_RFR = RandomForestRegressor(n_estimators=200, criterion='squared_error')"
   ]
  },
  {
   "cell_type": "code",
   "execution_count": 119,
   "id": "6eb4a900",
   "metadata": {},
   "outputs": [],
   "source": [
    "from sklearn.tree import DecisionTreeRegressor\n",
    "trf2_DTR= DecisionTreeRegressor(random_state=42)"
   ]
  },
  {
   "cell_type": "code",
   "execution_count": 120,
   "id": "e1792d11",
   "metadata": {},
   "outputs": [],
   "source": [
    "from sklearn.ensemble import AdaBoostRegressor\n",
    "trf2_ABR= AdaBoostRegressor()"
   ]
  },
  {
   "cell_type": "code",
   "execution_count": 121,
   "id": "5ad83a33",
   "metadata": {},
   "outputs": [],
   "source": [
    "from sklearn.linear_model import ElasticNet\n",
    "trf2_ENR=ElasticNet(alpha=0.1, l1_ratio=0.5)"
   ]
  },
  {
   "cell_type": "code",
   "execution_count": 122,
   "id": "cfbfcaca",
   "metadata": {},
   "outputs": [],
   "source": [
    "# Display Pipeline diagram\n",
    "from sklearn import set_config\n",
    "set_config(display='diagram')"
   ]
  },
  {
   "cell_type": "code",
   "execution_count": 123,
   "id": "288dfe07",
   "metadata": {},
   "outputs": [
    {
     "data": {
      "text/html": [
       "<style>#sk-container-id-9 {color: black;background-color: white;}#sk-container-id-9 pre{padding: 0;}#sk-container-id-9 div.sk-toggleable {background-color: white;}#sk-container-id-9 label.sk-toggleable__label {cursor: pointer;display: block;width: 100%;margin-bottom: 0;padding: 0.3em;box-sizing: border-box;text-align: center;}#sk-container-id-9 label.sk-toggleable__label-arrow:before {content: \"▸\";float: left;margin-right: 0.25em;color: #696969;}#sk-container-id-9 label.sk-toggleable__label-arrow:hover:before {color: black;}#sk-container-id-9 div.sk-estimator:hover label.sk-toggleable__label-arrow:before {color: black;}#sk-container-id-9 div.sk-toggleable__content {max-height: 0;max-width: 0;overflow: hidden;text-align: left;background-color: #f0f8ff;}#sk-container-id-9 div.sk-toggleable__content pre {margin: 0.2em;color: black;border-radius: 0.25em;background-color: #f0f8ff;}#sk-container-id-9 input.sk-toggleable__control:checked~div.sk-toggleable__content {max-height: 200px;max-width: 100%;overflow: auto;}#sk-container-id-9 input.sk-toggleable__control:checked~label.sk-toggleable__label-arrow:before {content: \"▾\";}#sk-container-id-9 div.sk-estimator input.sk-toggleable__control:checked~label.sk-toggleable__label {background-color: #d4ebff;}#sk-container-id-9 div.sk-label input.sk-toggleable__control:checked~label.sk-toggleable__label {background-color: #d4ebff;}#sk-container-id-9 input.sk-hidden--visually {border: 0;clip: rect(1px 1px 1px 1px);clip: rect(1px, 1px, 1px, 1px);height: 1px;margin: -1px;overflow: hidden;padding: 0;position: absolute;width: 1px;}#sk-container-id-9 div.sk-estimator {font-family: monospace;background-color: #f0f8ff;border: 1px dotted black;border-radius: 0.25em;box-sizing: border-box;margin-bottom: 0.5em;}#sk-container-id-9 div.sk-estimator:hover {background-color: #d4ebff;}#sk-container-id-9 div.sk-parallel-item::after {content: \"\";width: 100%;border-bottom: 1px solid gray;flex-grow: 1;}#sk-container-id-9 div.sk-label:hover label.sk-toggleable__label {background-color: #d4ebff;}#sk-container-id-9 div.sk-serial::before {content: \"\";position: absolute;border-left: 1px solid gray;box-sizing: border-box;top: 0;bottom: 0;left: 50%;z-index: 0;}#sk-container-id-9 div.sk-serial {display: flex;flex-direction: column;align-items: center;background-color: white;padding-right: 0.2em;padding-left: 0.2em;position: relative;}#sk-container-id-9 div.sk-item {position: relative;z-index: 1;}#sk-container-id-9 div.sk-parallel {display: flex;align-items: stretch;justify-content: center;background-color: white;position: relative;}#sk-container-id-9 div.sk-item::before, #sk-container-id-9 div.sk-parallel-item::before {content: \"\";position: absolute;border-left: 1px solid gray;box-sizing: border-box;top: 0;bottom: 0;left: 50%;z-index: -1;}#sk-container-id-9 div.sk-parallel-item {display: flex;flex-direction: column;z-index: 1;position: relative;background-color: white;}#sk-container-id-9 div.sk-parallel-item:first-child::after {align-self: flex-end;width: 50%;}#sk-container-id-9 div.sk-parallel-item:last-child::after {align-self: flex-start;width: 50%;}#sk-container-id-9 div.sk-parallel-item:only-child::after {width: 0;}#sk-container-id-9 div.sk-dashed-wrapped {border: 1px dashed gray;margin: 0 0.4em 0.5em 0.4em;box-sizing: border-box;padding-bottom: 0.4em;background-color: white;}#sk-container-id-9 div.sk-label label {font-family: monospace;font-weight: bold;display: inline-block;line-height: 1.2em;}#sk-container-id-9 div.sk-label-container {text-align: center;}#sk-container-id-9 div.sk-container {/* jupyter's `normalize.less` sets `[hidden] { display: none; }` but bootstrap.min.css set `[hidden] { display: none !important; }` so we also need the `!important` here to be able to override the default hidden behavior on the sphinx rendered scikit-learn.org. See: https://github.com/scikit-learn/scikit-learn/issues/21755 */display: inline-block !important;position: relative;}#sk-container-id-9 div.sk-text-repr-fallback {display: none;}</style><div id=\"sk-container-id-9\" class=\"sk-top-container\"><div class=\"sk-text-repr-fallback\"><pre>Pipeline(steps=[(&#x27;trf1_RFR&#x27;,\n",
       "                 ColumnTransformer(transformers=[(&#x27;ohe_name&#x27;,\n",
       "                                                  OneHotEncoder(handle_unknown=&#x27;ignore&#x27;,\n",
       "                                                                sparse=False),\n",
       "                                                  [0]),\n",
       "                                                 (&#x27;ohe_brand&#x27;,\n",
       "                                                  OneHotEncoder(handle_unknown=&#x27;ignore&#x27;,\n",
       "                                                                sparse=False),\n",
       "                                                  [1]),\n",
       "                                                 (&#x27;ohe_front_brake_type&#x27;,\n",
       "                                                  OneHotEncoder(handle_unknown=&#x27;ignore&#x27;,\n",
       "                                                                sparse=False),\n",
       "                                                  [6]),\n",
       "                                                 (&#x27;scaling&#x27;, StandardScaler(),\n",
       "                                                  [2, 3, 4, 5, 7, 8, 9, 10])])),\n",
       "                (&#x27;trf2_RFR&#x27;, RandomForestRegressor(n_estimators=200))])</pre><b>In a Jupyter environment, please rerun this cell to show the HTML representation or trust the notebook. <br />On GitHub, the HTML representation is unable to render, please try loading this page with nbviewer.org.</b></div><div class=\"sk-container\" hidden><div class=\"sk-item sk-dashed-wrapped\"><div class=\"sk-label-container\"><div class=\"sk-label sk-toggleable\"><input class=\"sk-toggleable__control sk-hidden--visually\" id=\"sk-estimator-id-65\" type=\"checkbox\" ><label for=\"sk-estimator-id-65\" class=\"sk-toggleable__label sk-toggleable__label-arrow\">Pipeline</label><div class=\"sk-toggleable__content\"><pre>Pipeline(steps=[(&#x27;trf1_RFR&#x27;,\n",
       "                 ColumnTransformer(transformers=[(&#x27;ohe_name&#x27;,\n",
       "                                                  OneHotEncoder(handle_unknown=&#x27;ignore&#x27;,\n",
       "                                                                sparse=False),\n",
       "                                                  [0]),\n",
       "                                                 (&#x27;ohe_brand&#x27;,\n",
       "                                                  OneHotEncoder(handle_unknown=&#x27;ignore&#x27;,\n",
       "                                                                sparse=False),\n",
       "                                                  [1]),\n",
       "                                                 (&#x27;ohe_front_brake_type&#x27;,\n",
       "                                                  OneHotEncoder(handle_unknown=&#x27;ignore&#x27;,\n",
       "                                                                sparse=False),\n",
       "                                                  [6]),\n",
       "                                                 (&#x27;scaling&#x27;, StandardScaler(),\n",
       "                                                  [2, 3, 4, 5, 7, 8, 9, 10])])),\n",
       "                (&#x27;trf2_RFR&#x27;, RandomForestRegressor(n_estimators=200))])</pre></div></div></div><div class=\"sk-serial\"><div class=\"sk-item sk-dashed-wrapped\"><div class=\"sk-label-container\"><div class=\"sk-label sk-toggleable\"><input class=\"sk-toggleable__control sk-hidden--visually\" id=\"sk-estimator-id-66\" type=\"checkbox\" ><label for=\"sk-estimator-id-66\" class=\"sk-toggleable__label sk-toggleable__label-arrow\">trf1_RFR: ColumnTransformer</label><div class=\"sk-toggleable__content\"><pre>ColumnTransformer(transformers=[(&#x27;ohe_name&#x27;,\n",
       "                                 OneHotEncoder(handle_unknown=&#x27;ignore&#x27;,\n",
       "                                               sparse=False),\n",
       "                                 [0]),\n",
       "                                (&#x27;ohe_brand&#x27;,\n",
       "                                 OneHotEncoder(handle_unknown=&#x27;ignore&#x27;,\n",
       "                                               sparse=False),\n",
       "                                 [1]),\n",
       "                                (&#x27;ohe_front_brake_type&#x27;,\n",
       "                                 OneHotEncoder(handle_unknown=&#x27;ignore&#x27;,\n",
       "                                               sparse=False),\n",
       "                                 [6]),\n",
       "                                (&#x27;scaling&#x27;, StandardScaler(),\n",
       "                                 [2, 3, 4, 5, 7, 8, 9, 10])])</pre></div></div></div><div class=\"sk-parallel\"><div class=\"sk-parallel-item\"><div class=\"sk-item\"><div class=\"sk-label-container\"><div class=\"sk-label sk-toggleable\"><input class=\"sk-toggleable__control sk-hidden--visually\" id=\"sk-estimator-id-67\" type=\"checkbox\" ><label for=\"sk-estimator-id-67\" class=\"sk-toggleable__label sk-toggleable__label-arrow\">ohe_name</label><div class=\"sk-toggleable__content\"><pre>[0]</pre></div></div></div><div class=\"sk-serial\"><div class=\"sk-item\"><div class=\"sk-estimator sk-toggleable\"><input class=\"sk-toggleable__control sk-hidden--visually\" id=\"sk-estimator-id-68\" type=\"checkbox\" ><label for=\"sk-estimator-id-68\" class=\"sk-toggleable__label sk-toggleable__label-arrow\">OneHotEncoder</label><div class=\"sk-toggleable__content\"><pre>OneHotEncoder(handle_unknown=&#x27;ignore&#x27;, sparse=False)</pre></div></div></div></div></div></div><div class=\"sk-parallel-item\"><div class=\"sk-item\"><div class=\"sk-label-container\"><div class=\"sk-label sk-toggleable\"><input class=\"sk-toggleable__control sk-hidden--visually\" id=\"sk-estimator-id-69\" type=\"checkbox\" ><label for=\"sk-estimator-id-69\" class=\"sk-toggleable__label sk-toggleable__label-arrow\">ohe_brand</label><div class=\"sk-toggleable__content\"><pre>[1]</pre></div></div></div><div class=\"sk-serial\"><div class=\"sk-item\"><div class=\"sk-estimator sk-toggleable\"><input class=\"sk-toggleable__control sk-hidden--visually\" id=\"sk-estimator-id-70\" type=\"checkbox\" ><label for=\"sk-estimator-id-70\" class=\"sk-toggleable__label sk-toggleable__label-arrow\">OneHotEncoder</label><div class=\"sk-toggleable__content\"><pre>OneHotEncoder(handle_unknown=&#x27;ignore&#x27;, sparse=False)</pre></div></div></div></div></div></div><div class=\"sk-parallel-item\"><div class=\"sk-item\"><div class=\"sk-label-container\"><div class=\"sk-label sk-toggleable\"><input class=\"sk-toggleable__control sk-hidden--visually\" id=\"sk-estimator-id-71\" type=\"checkbox\" ><label for=\"sk-estimator-id-71\" class=\"sk-toggleable__label sk-toggleable__label-arrow\">ohe_front_brake_type</label><div class=\"sk-toggleable__content\"><pre>[6]</pre></div></div></div><div class=\"sk-serial\"><div class=\"sk-item\"><div class=\"sk-estimator sk-toggleable\"><input class=\"sk-toggleable__control sk-hidden--visually\" id=\"sk-estimator-id-72\" type=\"checkbox\" ><label for=\"sk-estimator-id-72\" class=\"sk-toggleable__label sk-toggleable__label-arrow\">OneHotEncoder</label><div class=\"sk-toggleable__content\"><pre>OneHotEncoder(handle_unknown=&#x27;ignore&#x27;, sparse=False)</pre></div></div></div></div></div></div><div class=\"sk-parallel-item\"><div class=\"sk-item\"><div class=\"sk-label-container\"><div class=\"sk-label sk-toggleable\"><input class=\"sk-toggleable__control sk-hidden--visually\" id=\"sk-estimator-id-73\" type=\"checkbox\" ><label for=\"sk-estimator-id-73\" class=\"sk-toggleable__label sk-toggleable__label-arrow\">scaling</label><div class=\"sk-toggleable__content\"><pre>[2, 3, 4, 5, 7, 8, 9, 10]</pre></div></div></div><div class=\"sk-serial\"><div class=\"sk-item\"><div class=\"sk-estimator sk-toggleable\"><input class=\"sk-toggleable__control sk-hidden--visually\" id=\"sk-estimator-id-74\" type=\"checkbox\" ><label for=\"sk-estimator-id-74\" class=\"sk-toggleable__label sk-toggleable__label-arrow\">StandardScaler</label><div class=\"sk-toggleable__content\"><pre>StandardScaler()</pre></div></div></div></div></div></div></div></div><div class=\"sk-item\"><div class=\"sk-estimator sk-toggleable\"><input class=\"sk-toggleable__control sk-hidden--visually\" id=\"sk-estimator-id-75\" type=\"checkbox\" ><label for=\"sk-estimator-id-75\" class=\"sk-toggleable__label sk-toggleable__label-arrow\">RandomForestRegressor</label><div class=\"sk-toggleable__content\"><pre>RandomForestRegressor(n_estimators=200)</pre></div></div></div></div></div></div></div>"
      ],
      "text/plain": [
       "Pipeline(steps=[('trf1_RFR',\n",
       "                 ColumnTransformer(transformers=[('ohe_name',\n",
       "                                                  OneHotEncoder(handle_unknown='ignore',\n",
       "                                                                sparse=False),\n",
       "                                                  [0]),\n",
       "                                                 ('ohe_brand',\n",
       "                                                  OneHotEncoder(handle_unknown='ignore',\n",
       "                                                                sparse=False),\n",
       "                                                  [1]),\n",
       "                                                 ('ohe_front_brake_type',\n",
       "                                                  OneHotEncoder(handle_unknown='ignore',\n",
       "                                                                sparse=False),\n",
       "                                                  [6]),\n",
       "                                                 ('scaling', StandardScaler(),\n",
       "                                                  [2, 3, 4, 5, 7, 8, 9, 10])])),\n",
       "                ('trf2_RFR', RandomForestRegressor(n_estimators=200))])"
      ]
     },
     "execution_count": 123,
     "metadata": {},
     "output_type": "execute_result"
    }
   ],
   "source": [
    "# crating the pipeline based on above column transformation\n",
    "from sklearn.pipeline import Pipeline,make_pipeline\n",
    "pipe = Pipeline([\n",
    "    ('trf1_RFR',trf1_RFR),\n",
    "    ('trf2_RFR',trf2_RFR),])\n",
    "# train pipeline\n",
    "pipe.fit(X_train,y_train)"
   ]
  },
  {
   "cell_type": "code",
   "execution_count": 124,
   "id": "b55694cc",
   "metadata": {},
   "outputs": [
    {
     "data": {
      "text/html": [
       "<style>#sk-container-id-10 {color: black;background-color: white;}#sk-container-id-10 pre{padding: 0;}#sk-container-id-10 div.sk-toggleable {background-color: white;}#sk-container-id-10 label.sk-toggleable__label {cursor: pointer;display: block;width: 100%;margin-bottom: 0;padding: 0.3em;box-sizing: border-box;text-align: center;}#sk-container-id-10 label.sk-toggleable__label-arrow:before {content: \"▸\";float: left;margin-right: 0.25em;color: #696969;}#sk-container-id-10 label.sk-toggleable__label-arrow:hover:before {color: black;}#sk-container-id-10 div.sk-estimator:hover label.sk-toggleable__label-arrow:before {color: black;}#sk-container-id-10 div.sk-toggleable__content {max-height: 0;max-width: 0;overflow: hidden;text-align: left;background-color: #f0f8ff;}#sk-container-id-10 div.sk-toggleable__content pre {margin: 0.2em;color: black;border-radius: 0.25em;background-color: #f0f8ff;}#sk-container-id-10 input.sk-toggleable__control:checked~div.sk-toggleable__content {max-height: 200px;max-width: 100%;overflow: auto;}#sk-container-id-10 input.sk-toggleable__control:checked~label.sk-toggleable__label-arrow:before {content: \"▾\";}#sk-container-id-10 div.sk-estimator input.sk-toggleable__control:checked~label.sk-toggleable__label {background-color: #d4ebff;}#sk-container-id-10 div.sk-label input.sk-toggleable__control:checked~label.sk-toggleable__label {background-color: #d4ebff;}#sk-container-id-10 input.sk-hidden--visually {border: 0;clip: rect(1px 1px 1px 1px);clip: rect(1px, 1px, 1px, 1px);height: 1px;margin: -1px;overflow: hidden;padding: 0;position: absolute;width: 1px;}#sk-container-id-10 div.sk-estimator {font-family: monospace;background-color: #f0f8ff;border: 1px dotted black;border-radius: 0.25em;box-sizing: border-box;margin-bottom: 0.5em;}#sk-container-id-10 div.sk-estimator:hover {background-color: #d4ebff;}#sk-container-id-10 div.sk-parallel-item::after {content: \"\";width: 100%;border-bottom: 1px solid gray;flex-grow: 1;}#sk-container-id-10 div.sk-label:hover label.sk-toggleable__label {background-color: #d4ebff;}#sk-container-id-10 div.sk-serial::before {content: \"\";position: absolute;border-left: 1px solid gray;box-sizing: border-box;top: 0;bottom: 0;left: 50%;z-index: 0;}#sk-container-id-10 div.sk-serial {display: flex;flex-direction: column;align-items: center;background-color: white;padding-right: 0.2em;padding-left: 0.2em;position: relative;}#sk-container-id-10 div.sk-item {position: relative;z-index: 1;}#sk-container-id-10 div.sk-parallel {display: flex;align-items: stretch;justify-content: center;background-color: white;position: relative;}#sk-container-id-10 div.sk-item::before, #sk-container-id-10 div.sk-parallel-item::before {content: \"\";position: absolute;border-left: 1px solid gray;box-sizing: border-box;top: 0;bottom: 0;left: 50%;z-index: -1;}#sk-container-id-10 div.sk-parallel-item {display: flex;flex-direction: column;z-index: 1;position: relative;background-color: white;}#sk-container-id-10 div.sk-parallel-item:first-child::after {align-self: flex-end;width: 50%;}#sk-container-id-10 div.sk-parallel-item:last-child::after {align-self: flex-start;width: 50%;}#sk-container-id-10 div.sk-parallel-item:only-child::after {width: 0;}#sk-container-id-10 div.sk-dashed-wrapped {border: 1px dashed gray;margin: 0 0.4em 0.5em 0.4em;box-sizing: border-box;padding-bottom: 0.4em;background-color: white;}#sk-container-id-10 div.sk-label label {font-family: monospace;font-weight: bold;display: inline-block;line-height: 1.2em;}#sk-container-id-10 div.sk-label-container {text-align: center;}#sk-container-id-10 div.sk-container {/* jupyter's `normalize.less` sets `[hidden] { display: none; }` but bootstrap.min.css set `[hidden] { display: none !important; }` so we also need the `!important` here to be able to override the default hidden behavior on the sphinx rendered scikit-learn.org. See: https://github.com/scikit-learn/scikit-learn/issues/21755 */display: inline-block !important;position: relative;}#sk-container-id-10 div.sk-text-repr-fallback {display: none;}</style><div id=\"sk-container-id-10\" class=\"sk-top-container\"><div class=\"sk-text-repr-fallback\"><pre>Pipeline(steps=[(&#x27;trf1_DTR&#x27;,\n",
       "                 ColumnTransformer(transformers=[(&#x27;onehot&#x27;,\n",
       "                                                  OneHotEncoder(handle_unknown=&#x27;ignore&#x27;,\n",
       "                                                                sparse=False),\n",
       "                                                  [0, 1, 6]),\n",
       "                                                 (&#x27;scaling&#x27;, StandardScaler(),\n",
       "                                                  [2, 3, 4, 5, 7, 8, 9, 10])])),\n",
       "                (&#x27;trf2_DTR&#x27;, DecisionTreeRegressor(random_state=42))])</pre><b>In a Jupyter environment, please rerun this cell to show the HTML representation or trust the notebook. <br />On GitHub, the HTML representation is unable to render, please try loading this page with nbviewer.org.</b></div><div class=\"sk-container\" hidden><div class=\"sk-item sk-dashed-wrapped\"><div class=\"sk-label-container\"><div class=\"sk-label sk-toggleable\"><input class=\"sk-toggleable__control sk-hidden--visually\" id=\"sk-estimator-id-76\" type=\"checkbox\" ><label for=\"sk-estimator-id-76\" class=\"sk-toggleable__label sk-toggleable__label-arrow\">Pipeline</label><div class=\"sk-toggleable__content\"><pre>Pipeline(steps=[(&#x27;trf1_DTR&#x27;,\n",
       "                 ColumnTransformer(transformers=[(&#x27;onehot&#x27;,\n",
       "                                                  OneHotEncoder(handle_unknown=&#x27;ignore&#x27;,\n",
       "                                                                sparse=False),\n",
       "                                                  [0, 1, 6]),\n",
       "                                                 (&#x27;scaling&#x27;, StandardScaler(),\n",
       "                                                  [2, 3, 4, 5, 7, 8, 9, 10])])),\n",
       "                (&#x27;trf2_DTR&#x27;, DecisionTreeRegressor(random_state=42))])</pre></div></div></div><div class=\"sk-serial\"><div class=\"sk-item sk-dashed-wrapped\"><div class=\"sk-label-container\"><div class=\"sk-label sk-toggleable\"><input class=\"sk-toggleable__control sk-hidden--visually\" id=\"sk-estimator-id-77\" type=\"checkbox\" ><label for=\"sk-estimator-id-77\" class=\"sk-toggleable__label sk-toggleable__label-arrow\">trf1_DTR: ColumnTransformer</label><div class=\"sk-toggleable__content\"><pre>ColumnTransformer(transformers=[(&#x27;onehot&#x27;,\n",
       "                                 OneHotEncoder(handle_unknown=&#x27;ignore&#x27;,\n",
       "                                               sparse=False),\n",
       "                                 [0, 1, 6]),\n",
       "                                (&#x27;scaling&#x27;, StandardScaler(),\n",
       "                                 [2, 3, 4, 5, 7, 8, 9, 10])])</pre></div></div></div><div class=\"sk-parallel\"><div class=\"sk-parallel-item\"><div class=\"sk-item\"><div class=\"sk-label-container\"><div class=\"sk-label sk-toggleable\"><input class=\"sk-toggleable__control sk-hidden--visually\" id=\"sk-estimator-id-78\" type=\"checkbox\" ><label for=\"sk-estimator-id-78\" class=\"sk-toggleable__label sk-toggleable__label-arrow\">onehot</label><div class=\"sk-toggleable__content\"><pre>[0, 1, 6]</pre></div></div></div><div class=\"sk-serial\"><div class=\"sk-item\"><div class=\"sk-estimator sk-toggleable\"><input class=\"sk-toggleable__control sk-hidden--visually\" id=\"sk-estimator-id-79\" type=\"checkbox\" ><label for=\"sk-estimator-id-79\" class=\"sk-toggleable__label sk-toggleable__label-arrow\">OneHotEncoder</label><div class=\"sk-toggleable__content\"><pre>OneHotEncoder(handle_unknown=&#x27;ignore&#x27;, sparse=False)</pre></div></div></div></div></div></div><div class=\"sk-parallel-item\"><div class=\"sk-item\"><div class=\"sk-label-container\"><div class=\"sk-label sk-toggleable\"><input class=\"sk-toggleable__control sk-hidden--visually\" id=\"sk-estimator-id-80\" type=\"checkbox\" ><label for=\"sk-estimator-id-80\" class=\"sk-toggleable__label sk-toggleable__label-arrow\">scaling</label><div class=\"sk-toggleable__content\"><pre>[2, 3, 4, 5, 7, 8, 9, 10]</pre></div></div></div><div class=\"sk-serial\"><div class=\"sk-item\"><div class=\"sk-estimator sk-toggleable\"><input class=\"sk-toggleable__control sk-hidden--visually\" id=\"sk-estimator-id-81\" type=\"checkbox\" ><label for=\"sk-estimator-id-81\" class=\"sk-toggleable__label sk-toggleable__label-arrow\">StandardScaler</label><div class=\"sk-toggleable__content\"><pre>StandardScaler()</pre></div></div></div></div></div></div></div></div><div class=\"sk-item\"><div class=\"sk-estimator sk-toggleable\"><input class=\"sk-toggleable__control sk-hidden--visually\" id=\"sk-estimator-id-82\" type=\"checkbox\" ><label for=\"sk-estimator-id-82\" class=\"sk-toggleable__label sk-toggleable__label-arrow\">DecisionTreeRegressor</label><div class=\"sk-toggleable__content\"><pre>DecisionTreeRegressor(random_state=42)</pre></div></div></div></div></div></div></div>"
      ],
      "text/plain": [
       "Pipeline(steps=[('trf1_DTR',\n",
       "                 ColumnTransformer(transformers=[('onehot',\n",
       "                                                  OneHotEncoder(handle_unknown='ignore',\n",
       "                                                                sparse=False),\n",
       "                                                  [0, 1, 6]),\n",
       "                                                 ('scaling', StandardScaler(),\n",
       "                                                  [2, 3, 4, 5, 7, 8, 9, 10])])),\n",
       "                ('trf2_DTR', DecisionTreeRegressor(random_state=42))])"
      ]
     },
     "execution_count": 124,
     "metadata": {},
     "output_type": "execute_result"
    }
   ],
   "source": [
    "pipe2 = Pipeline([\n",
    "    ('trf1_DTR',trf1_DTR),\n",
    "    ('trf2_DTR',trf2_DTR),])\n",
    "pipe2.fit(X_train,y_train)"
   ]
  },
  {
   "cell_type": "code",
   "execution_count": 125,
   "id": "05343d5b",
   "metadata": {},
   "outputs": [
    {
     "data": {
      "text/html": [
       "<style>#sk-container-id-11 {color: black;background-color: white;}#sk-container-id-11 pre{padding: 0;}#sk-container-id-11 div.sk-toggleable {background-color: white;}#sk-container-id-11 label.sk-toggleable__label {cursor: pointer;display: block;width: 100%;margin-bottom: 0;padding: 0.3em;box-sizing: border-box;text-align: center;}#sk-container-id-11 label.sk-toggleable__label-arrow:before {content: \"▸\";float: left;margin-right: 0.25em;color: #696969;}#sk-container-id-11 label.sk-toggleable__label-arrow:hover:before {color: black;}#sk-container-id-11 div.sk-estimator:hover label.sk-toggleable__label-arrow:before {color: black;}#sk-container-id-11 div.sk-toggleable__content {max-height: 0;max-width: 0;overflow: hidden;text-align: left;background-color: #f0f8ff;}#sk-container-id-11 div.sk-toggleable__content pre {margin: 0.2em;color: black;border-radius: 0.25em;background-color: #f0f8ff;}#sk-container-id-11 input.sk-toggleable__control:checked~div.sk-toggleable__content {max-height: 200px;max-width: 100%;overflow: auto;}#sk-container-id-11 input.sk-toggleable__control:checked~label.sk-toggleable__label-arrow:before {content: \"▾\";}#sk-container-id-11 div.sk-estimator input.sk-toggleable__control:checked~label.sk-toggleable__label {background-color: #d4ebff;}#sk-container-id-11 div.sk-label input.sk-toggleable__control:checked~label.sk-toggleable__label {background-color: #d4ebff;}#sk-container-id-11 input.sk-hidden--visually {border: 0;clip: rect(1px 1px 1px 1px);clip: rect(1px, 1px, 1px, 1px);height: 1px;margin: -1px;overflow: hidden;padding: 0;position: absolute;width: 1px;}#sk-container-id-11 div.sk-estimator {font-family: monospace;background-color: #f0f8ff;border: 1px dotted black;border-radius: 0.25em;box-sizing: border-box;margin-bottom: 0.5em;}#sk-container-id-11 div.sk-estimator:hover {background-color: #d4ebff;}#sk-container-id-11 div.sk-parallel-item::after {content: \"\";width: 100%;border-bottom: 1px solid gray;flex-grow: 1;}#sk-container-id-11 div.sk-label:hover label.sk-toggleable__label {background-color: #d4ebff;}#sk-container-id-11 div.sk-serial::before {content: \"\";position: absolute;border-left: 1px solid gray;box-sizing: border-box;top: 0;bottom: 0;left: 50%;z-index: 0;}#sk-container-id-11 div.sk-serial {display: flex;flex-direction: column;align-items: center;background-color: white;padding-right: 0.2em;padding-left: 0.2em;position: relative;}#sk-container-id-11 div.sk-item {position: relative;z-index: 1;}#sk-container-id-11 div.sk-parallel {display: flex;align-items: stretch;justify-content: center;background-color: white;position: relative;}#sk-container-id-11 div.sk-item::before, #sk-container-id-11 div.sk-parallel-item::before {content: \"\";position: absolute;border-left: 1px solid gray;box-sizing: border-box;top: 0;bottom: 0;left: 50%;z-index: -1;}#sk-container-id-11 div.sk-parallel-item {display: flex;flex-direction: column;z-index: 1;position: relative;background-color: white;}#sk-container-id-11 div.sk-parallel-item:first-child::after {align-self: flex-end;width: 50%;}#sk-container-id-11 div.sk-parallel-item:last-child::after {align-self: flex-start;width: 50%;}#sk-container-id-11 div.sk-parallel-item:only-child::after {width: 0;}#sk-container-id-11 div.sk-dashed-wrapped {border: 1px dashed gray;margin: 0 0.4em 0.5em 0.4em;box-sizing: border-box;padding-bottom: 0.4em;background-color: white;}#sk-container-id-11 div.sk-label label {font-family: monospace;font-weight: bold;display: inline-block;line-height: 1.2em;}#sk-container-id-11 div.sk-label-container {text-align: center;}#sk-container-id-11 div.sk-container {/* jupyter's `normalize.less` sets `[hidden] { display: none; }` but bootstrap.min.css set `[hidden] { display: none !important; }` so we also need the `!important` here to be able to override the default hidden behavior on the sphinx rendered scikit-learn.org. See: https://github.com/scikit-learn/scikit-learn/issues/21755 */display: inline-block !important;position: relative;}#sk-container-id-11 div.sk-text-repr-fallback {display: none;}</style><div id=\"sk-container-id-11\" class=\"sk-top-container\"><div class=\"sk-text-repr-fallback\"><pre>Pipeline(steps=[(&#x27;trf1_DTR&#x27;,\n",
       "                 ColumnTransformer(transformers=[(&#x27;onehot&#x27;,\n",
       "                                                  OneHotEncoder(handle_unknown=&#x27;ignore&#x27;,\n",
       "                                                                sparse=False),\n",
       "                                                  [0, 1, 6]),\n",
       "                                                 (&#x27;scaling&#x27;, StandardScaler(),\n",
       "                                                  [2, 3, 4, 5, 7, 8, 9, 10])])),\n",
       "                (&#x27;trf2_ABR&#x27;, AdaBoostRegressor())])</pre><b>In a Jupyter environment, please rerun this cell to show the HTML representation or trust the notebook. <br />On GitHub, the HTML representation is unable to render, please try loading this page with nbviewer.org.</b></div><div class=\"sk-container\" hidden><div class=\"sk-item sk-dashed-wrapped\"><div class=\"sk-label-container\"><div class=\"sk-label sk-toggleable\"><input class=\"sk-toggleable__control sk-hidden--visually\" id=\"sk-estimator-id-83\" type=\"checkbox\" ><label for=\"sk-estimator-id-83\" class=\"sk-toggleable__label sk-toggleable__label-arrow\">Pipeline</label><div class=\"sk-toggleable__content\"><pre>Pipeline(steps=[(&#x27;trf1_DTR&#x27;,\n",
       "                 ColumnTransformer(transformers=[(&#x27;onehot&#x27;,\n",
       "                                                  OneHotEncoder(handle_unknown=&#x27;ignore&#x27;,\n",
       "                                                                sparse=False),\n",
       "                                                  [0, 1, 6]),\n",
       "                                                 (&#x27;scaling&#x27;, StandardScaler(),\n",
       "                                                  [2, 3, 4, 5, 7, 8, 9, 10])])),\n",
       "                (&#x27;trf2_ABR&#x27;, AdaBoostRegressor())])</pre></div></div></div><div class=\"sk-serial\"><div class=\"sk-item sk-dashed-wrapped\"><div class=\"sk-label-container\"><div class=\"sk-label sk-toggleable\"><input class=\"sk-toggleable__control sk-hidden--visually\" id=\"sk-estimator-id-84\" type=\"checkbox\" ><label for=\"sk-estimator-id-84\" class=\"sk-toggleable__label sk-toggleable__label-arrow\">trf1_DTR: ColumnTransformer</label><div class=\"sk-toggleable__content\"><pre>ColumnTransformer(transformers=[(&#x27;onehot&#x27;,\n",
       "                                 OneHotEncoder(handle_unknown=&#x27;ignore&#x27;,\n",
       "                                               sparse=False),\n",
       "                                 [0, 1, 6]),\n",
       "                                (&#x27;scaling&#x27;, StandardScaler(),\n",
       "                                 [2, 3, 4, 5, 7, 8, 9, 10])])</pre></div></div></div><div class=\"sk-parallel\"><div class=\"sk-parallel-item\"><div class=\"sk-item\"><div class=\"sk-label-container\"><div class=\"sk-label sk-toggleable\"><input class=\"sk-toggleable__control sk-hidden--visually\" id=\"sk-estimator-id-85\" type=\"checkbox\" ><label for=\"sk-estimator-id-85\" class=\"sk-toggleable__label sk-toggleable__label-arrow\">onehot</label><div class=\"sk-toggleable__content\"><pre>[0, 1, 6]</pre></div></div></div><div class=\"sk-serial\"><div class=\"sk-item\"><div class=\"sk-estimator sk-toggleable\"><input class=\"sk-toggleable__control sk-hidden--visually\" id=\"sk-estimator-id-86\" type=\"checkbox\" ><label for=\"sk-estimator-id-86\" class=\"sk-toggleable__label sk-toggleable__label-arrow\">OneHotEncoder</label><div class=\"sk-toggleable__content\"><pre>OneHotEncoder(handle_unknown=&#x27;ignore&#x27;, sparse=False)</pre></div></div></div></div></div></div><div class=\"sk-parallel-item\"><div class=\"sk-item\"><div class=\"sk-label-container\"><div class=\"sk-label sk-toggleable\"><input class=\"sk-toggleable__control sk-hidden--visually\" id=\"sk-estimator-id-87\" type=\"checkbox\" ><label for=\"sk-estimator-id-87\" class=\"sk-toggleable__label sk-toggleable__label-arrow\">scaling</label><div class=\"sk-toggleable__content\"><pre>[2, 3, 4, 5, 7, 8, 9, 10]</pre></div></div></div><div class=\"sk-serial\"><div class=\"sk-item\"><div class=\"sk-estimator sk-toggleable\"><input class=\"sk-toggleable__control sk-hidden--visually\" id=\"sk-estimator-id-88\" type=\"checkbox\" ><label for=\"sk-estimator-id-88\" class=\"sk-toggleable__label sk-toggleable__label-arrow\">StandardScaler</label><div class=\"sk-toggleable__content\"><pre>StandardScaler()</pre></div></div></div></div></div></div></div></div><div class=\"sk-item\"><div class=\"sk-estimator sk-toggleable\"><input class=\"sk-toggleable__control sk-hidden--visually\" id=\"sk-estimator-id-89\" type=\"checkbox\" ><label for=\"sk-estimator-id-89\" class=\"sk-toggleable__label sk-toggleable__label-arrow\">AdaBoostRegressor</label><div class=\"sk-toggleable__content\"><pre>AdaBoostRegressor()</pre></div></div></div></div></div></div></div>"
      ],
      "text/plain": [
       "Pipeline(steps=[('trf1_DTR',\n",
       "                 ColumnTransformer(transformers=[('onehot',\n",
       "                                                  OneHotEncoder(handle_unknown='ignore',\n",
       "                                                                sparse=False),\n",
       "                                                  [0, 1, 6]),\n",
       "                                                 ('scaling', StandardScaler(),\n",
       "                                                  [2, 3, 4, 5, 7, 8, 9, 10])])),\n",
       "                ('trf2_ABR', AdaBoostRegressor())])"
      ]
     },
     "execution_count": 125,
     "metadata": {},
     "output_type": "execute_result"
    }
   ],
   "source": [
    "pipe3 = Pipeline([\n",
    "    ('trf1_DTR',trf1_DTR),\n",
    "    ('trf2_ABR',trf2_ABR),])\n",
    "pipe3.fit(X_train,y_train)"
   ]
  },
  {
   "cell_type": "code",
   "execution_count": 126,
   "id": "5471ee12",
   "metadata": {},
   "outputs": [
    {
     "data": {
      "text/html": [
       "<style>#sk-container-id-12 {color: black;background-color: white;}#sk-container-id-12 pre{padding: 0;}#sk-container-id-12 div.sk-toggleable {background-color: white;}#sk-container-id-12 label.sk-toggleable__label {cursor: pointer;display: block;width: 100%;margin-bottom: 0;padding: 0.3em;box-sizing: border-box;text-align: center;}#sk-container-id-12 label.sk-toggleable__label-arrow:before {content: \"▸\";float: left;margin-right: 0.25em;color: #696969;}#sk-container-id-12 label.sk-toggleable__label-arrow:hover:before {color: black;}#sk-container-id-12 div.sk-estimator:hover label.sk-toggleable__label-arrow:before {color: black;}#sk-container-id-12 div.sk-toggleable__content {max-height: 0;max-width: 0;overflow: hidden;text-align: left;background-color: #f0f8ff;}#sk-container-id-12 div.sk-toggleable__content pre {margin: 0.2em;color: black;border-radius: 0.25em;background-color: #f0f8ff;}#sk-container-id-12 input.sk-toggleable__control:checked~div.sk-toggleable__content {max-height: 200px;max-width: 100%;overflow: auto;}#sk-container-id-12 input.sk-toggleable__control:checked~label.sk-toggleable__label-arrow:before {content: \"▾\";}#sk-container-id-12 div.sk-estimator input.sk-toggleable__control:checked~label.sk-toggleable__label {background-color: #d4ebff;}#sk-container-id-12 div.sk-label input.sk-toggleable__control:checked~label.sk-toggleable__label {background-color: #d4ebff;}#sk-container-id-12 input.sk-hidden--visually {border: 0;clip: rect(1px 1px 1px 1px);clip: rect(1px, 1px, 1px, 1px);height: 1px;margin: -1px;overflow: hidden;padding: 0;position: absolute;width: 1px;}#sk-container-id-12 div.sk-estimator {font-family: monospace;background-color: #f0f8ff;border: 1px dotted black;border-radius: 0.25em;box-sizing: border-box;margin-bottom: 0.5em;}#sk-container-id-12 div.sk-estimator:hover {background-color: #d4ebff;}#sk-container-id-12 div.sk-parallel-item::after {content: \"\";width: 100%;border-bottom: 1px solid gray;flex-grow: 1;}#sk-container-id-12 div.sk-label:hover label.sk-toggleable__label {background-color: #d4ebff;}#sk-container-id-12 div.sk-serial::before {content: \"\";position: absolute;border-left: 1px solid gray;box-sizing: border-box;top: 0;bottom: 0;left: 50%;z-index: 0;}#sk-container-id-12 div.sk-serial {display: flex;flex-direction: column;align-items: center;background-color: white;padding-right: 0.2em;padding-left: 0.2em;position: relative;}#sk-container-id-12 div.sk-item {position: relative;z-index: 1;}#sk-container-id-12 div.sk-parallel {display: flex;align-items: stretch;justify-content: center;background-color: white;position: relative;}#sk-container-id-12 div.sk-item::before, #sk-container-id-12 div.sk-parallel-item::before {content: \"\";position: absolute;border-left: 1px solid gray;box-sizing: border-box;top: 0;bottom: 0;left: 50%;z-index: -1;}#sk-container-id-12 div.sk-parallel-item {display: flex;flex-direction: column;z-index: 1;position: relative;background-color: white;}#sk-container-id-12 div.sk-parallel-item:first-child::after {align-self: flex-end;width: 50%;}#sk-container-id-12 div.sk-parallel-item:last-child::after {align-self: flex-start;width: 50%;}#sk-container-id-12 div.sk-parallel-item:only-child::after {width: 0;}#sk-container-id-12 div.sk-dashed-wrapped {border: 1px dashed gray;margin: 0 0.4em 0.5em 0.4em;box-sizing: border-box;padding-bottom: 0.4em;background-color: white;}#sk-container-id-12 div.sk-label label {font-family: monospace;font-weight: bold;display: inline-block;line-height: 1.2em;}#sk-container-id-12 div.sk-label-container {text-align: center;}#sk-container-id-12 div.sk-container {/* jupyter's `normalize.less` sets `[hidden] { display: none; }` but bootstrap.min.css set `[hidden] { display: none !important; }` so we also need the `!important` here to be able to override the default hidden behavior on the sphinx rendered scikit-learn.org. See: https://github.com/scikit-learn/scikit-learn/issues/21755 */display: inline-block !important;position: relative;}#sk-container-id-12 div.sk-text-repr-fallback {display: none;}</style><div id=\"sk-container-id-12\" class=\"sk-top-container\"><div class=\"sk-text-repr-fallback\"><pre>Pipeline(steps=[(&#x27;trf1_DTR&#x27;,\n",
       "                 ColumnTransformer(transformers=[(&#x27;onehot&#x27;,\n",
       "                                                  OneHotEncoder(handle_unknown=&#x27;ignore&#x27;,\n",
       "                                                                sparse=False),\n",
       "                                                  [0, 1, 6]),\n",
       "                                                 (&#x27;scaling&#x27;, StandardScaler(),\n",
       "                                                  [2, 3, 4, 5, 7, 8, 9, 10])])),\n",
       "                (&#x27;trf2_ENR&#x27;, ElasticNet(alpha=0.1))])</pre><b>In a Jupyter environment, please rerun this cell to show the HTML representation or trust the notebook. <br />On GitHub, the HTML representation is unable to render, please try loading this page with nbviewer.org.</b></div><div class=\"sk-container\" hidden><div class=\"sk-item sk-dashed-wrapped\"><div class=\"sk-label-container\"><div class=\"sk-label sk-toggleable\"><input class=\"sk-toggleable__control sk-hidden--visually\" id=\"sk-estimator-id-90\" type=\"checkbox\" ><label for=\"sk-estimator-id-90\" class=\"sk-toggleable__label sk-toggleable__label-arrow\">Pipeline</label><div class=\"sk-toggleable__content\"><pre>Pipeline(steps=[(&#x27;trf1_DTR&#x27;,\n",
       "                 ColumnTransformer(transformers=[(&#x27;onehot&#x27;,\n",
       "                                                  OneHotEncoder(handle_unknown=&#x27;ignore&#x27;,\n",
       "                                                                sparse=False),\n",
       "                                                  [0, 1, 6]),\n",
       "                                                 (&#x27;scaling&#x27;, StandardScaler(),\n",
       "                                                  [2, 3, 4, 5, 7, 8, 9, 10])])),\n",
       "                (&#x27;trf2_ENR&#x27;, ElasticNet(alpha=0.1))])</pre></div></div></div><div class=\"sk-serial\"><div class=\"sk-item sk-dashed-wrapped\"><div class=\"sk-label-container\"><div class=\"sk-label sk-toggleable\"><input class=\"sk-toggleable__control sk-hidden--visually\" id=\"sk-estimator-id-91\" type=\"checkbox\" ><label for=\"sk-estimator-id-91\" class=\"sk-toggleable__label sk-toggleable__label-arrow\">trf1_DTR: ColumnTransformer</label><div class=\"sk-toggleable__content\"><pre>ColumnTransformer(transformers=[(&#x27;onehot&#x27;,\n",
       "                                 OneHotEncoder(handle_unknown=&#x27;ignore&#x27;,\n",
       "                                               sparse=False),\n",
       "                                 [0, 1, 6]),\n",
       "                                (&#x27;scaling&#x27;, StandardScaler(),\n",
       "                                 [2, 3, 4, 5, 7, 8, 9, 10])])</pre></div></div></div><div class=\"sk-parallel\"><div class=\"sk-parallel-item\"><div class=\"sk-item\"><div class=\"sk-label-container\"><div class=\"sk-label sk-toggleable\"><input class=\"sk-toggleable__control sk-hidden--visually\" id=\"sk-estimator-id-92\" type=\"checkbox\" ><label for=\"sk-estimator-id-92\" class=\"sk-toggleable__label sk-toggleable__label-arrow\">onehot</label><div class=\"sk-toggleable__content\"><pre>[0, 1, 6]</pre></div></div></div><div class=\"sk-serial\"><div class=\"sk-item\"><div class=\"sk-estimator sk-toggleable\"><input class=\"sk-toggleable__control sk-hidden--visually\" id=\"sk-estimator-id-93\" type=\"checkbox\" ><label for=\"sk-estimator-id-93\" class=\"sk-toggleable__label sk-toggleable__label-arrow\">OneHotEncoder</label><div class=\"sk-toggleable__content\"><pre>OneHotEncoder(handle_unknown=&#x27;ignore&#x27;, sparse=False)</pre></div></div></div></div></div></div><div class=\"sk-parallel-item\"><div class=\"sk-item\"><div class=\"sk-label-container\"><div class=\"sk-label sk-toggleable\"><input class=\"sk-toggleable__control sk-hidden--visually\" id=\"sk-estimator-id-94\" type=\"checkbox\" ><label for=\"sk-estimator-id-94\" class=\"sk-toggleable__label sk-toggleable__label-arrow\">scaling</label><div class=\"sk-toggleable__content\"><pre>[2, 3, 4, 5, 7, 8, 9, 10]</pre></div></div></div><div class=\"sk-serial\"><div class=\"sk-item\"><div class=\"sk-estimator sk-toggleable\"><input class=\"sk-toggleable__control sk-hidden--visually\" id=\"sk-estimator-id-95\" type=\"checkbox\" ><label for=\"sk-estimator-id-95\" class=\"sk-toggleable__label sk-toggleable__label-arrow\">StandardScaler</label><div class=\"sk-toggleable__content\"><pre>StandardScaler()</pre></div></div></div></div></div></div></div></div><div class=\"sk-item\"><div class=\"sk-estimator sk-toggleable\"><input class=\"sk-toggleable__control sk-hidden--visually\" id=\"sk-estimator-id-96\" type=\"checkbox\" ><label for=\"sk-estimator-id-96\" class=\"sk-toggleable__label sk-toggleable__label-arrow\">ElasticNet</label><div class=\"sk-toggleable__content\"><pre>ElasticNet(alpha=0.1)</pre></div></div></div></div></div></div></div>"
      ],
      "text/plain": [
       "Pipeline(steps=[('trf1_DTR',\n",
       "                 ColumnTransformer(transformers=[('onehot',\n",
       "                                                  OneHotEncoder(handle_unknown='ignore',\n",
       "                                                                sparse=False),\n",
       "                                                  [0, 1, 6]),\n",
       "                                                 ('scaling', StandardScaler(),\n",
       "                                                  [2, 3, 4, 5, 7, 8, 9, 10])])),\n",
       "                ('trf2_ENR', ElasticNet(alpha=0.1))])"
      ]
     },
     "execution_count": 126,
     "metadata": {},
     "output_type": "execute_result"
    }
   ],
   "source": [
    "pipe4 = Pipeline([\n",
    "    ('trf1_DTR',trf1_DTR),\n",
    "    ('trf2_ENR',trf2_ENR),])\n",
    "pipe4.fit(X_train,y_train)"
   ]
  },
  {
   "cell_type": "code",
   "execution_count": 127,
   "id": "61f7b208",
   "metadata": {},
   "outputs": [
    {
     "data": {
      "text/plain": [
       "array([1256049.82333333,  105703.31      ,   80109.935     ,\n",
       "         71359.555     ,  811977.995     , 2086416.2       ,\n",
       "         71390.49      ,  146703.67      , 2171138.2       ,\n",
       "       2734345.95      ,  124578.58      ,  122075.89      ,\n",
       "       1390205.035     ,   68982.92      ,   75758.805     ,\n",
       "        131406.185     ,  697706.995     ,  132585.62      ,\n",
       "         54414.775     ,  219291.79      ,  127737.83      ,\n",
       "        164316.79      , 1056711.945     ,  132914.195     ,\n",
       "         80984.19      ,  196287.575     , 2112046.74      ,\n",
       "         70972.535     ,   72145.74      , 2136354.29      ,\n",
       "         80926.91      ,  131379.01      ,   81824.61      ,\n",
       "       1421028.285     , 2295314.95      ])"
      ]
     },
     "execution_count": 127,
     "metadata": {},
     "output_type": "execute_result"
    }
   ],
   "source": [
    "# Predict\n",
    "y_pred_RFR = pipe.predict(X_test)\n",
    "y_pred_RFR"
   ]
  },
  {
   "cell_type": "code",
   "execution_count": 128,
   "id": "ac63ad26",
   "metadata": {},
   "outputs": [
    {
     "data": {
      "text/plain": [
       "array([1139000.,   90524.,   84568.,   71502.,  732773., 2372222.,\n",
       "         75471.,  135257., 1139000., 2372222.,  134313.,  113636.,\n",
       "       1219000.,   75471.,   71674.,  105884.,  643034.,  104982.,\n",
       "         47140.,  236090.,  135240.,  180687., 1069000.,  135240.,\n",
       "         83086.,  236090., 2148000.,   71674.,   75471., 2372222.,\n",
       "         78627.,  105884.,   83273., 1605000., 2372222.])"
      ]
     },
     "execution_count": 128,
     "metadata": {},
     "output_type": "execute_result"
    }
   ],
   "source": [
    "# Predict\n",
    "y_pred_DTR = pipe2.predict(X_test)\n",
    "y_pred_DTR"
   ]
  },
  {
   "cell_type": "code",
   "execution_count": 129,
   "id": "de1b9a5e",
   "metadata": {},
   "outputs": [
    {
     "data": {
      "text/plain": [
       "array([1559597.72340426,  185521.62337662,  185521.62337662,\n",
       "        185521.62337662,  857769.90909091, 2075900.42424242,\n",
       "        185521.62337662,  185521.62337662, 2068423.54716981,\n",
       "       2173426.42857143,  185521.62337662,  185521.62337662,\n",
       "       1288390.54237288,  185521.62337662,  185521.62337662,\n",
       "        185521.62337662,  830752.69565217,  185521.62337662,\n",
       "        185521.62337662,  185521.62337662,  185521.62337662,\n",
       "        185521.62337662, 1097190.90196078,  185521.62337662,\n",
       "        185521.62337662,  293453.6875    , 2157110.80555556,\n",
       "        185521.62337662,  185521.62337662, 2109710.85      ,\n",
       "        185521.62337662,  185521.62337662,  185521.62337662,\n",
       "       1330098.51724138, 2162811.63043478])"
      ]
     },
     "execution_count": 129,
     "metadata": {},
     "output_type": "execute_result"
    }
   ],
   "source": [
    "y_pred_ABR = pipe3.predict(X_test)\n",
    "y_pred_ABR"
   ]
  },
  {
   "cell_type": "code",
   "execution_count": 130,
   "id": "adad817e",
   "metadata": {},
   "outputs": [
    {
     "data": {
      "text/plain": [
       "array([1446495.83252581,   84710.94708673,   13085.25272287,\n",
       "         96680.04579878,  900394.64969143, 2861498.10069459,\n",
       "        117327.54671497,  133217.39286091, 2442097.46416006,\n",
       "       3172275.76267319,  -72296.47225102,  -15298.16027797,\n",
       "       1432449.63047552,  108479.13691042,   25068.76423983,\n",
       "        -26889.39842029,  965900.48745849,  -69015.77825214,\n",
       "        -30219.55874337,  253648.35591137,  -46298.38495427,\n",
       "        220823.3519008 , 1161825.87385155,   50822.18521715,\n",
       "        107603.61883758,  147657.16560857, 2440628.81210716,\n",
       "         31874.33267044,  -10730.59355994, 2876113.3009196 ,\n",
       "         65781.25239112,   -6033.20121717,  119814.53097889,\n",
       "       1497141.56356104, 2895174.26801808])"
      ]
     },
     "execution_count": 130,
     "metadata": {},
     "output_type": "execute_result"
    }
   ],
   "source": [
    "y_pred_ENR = pipe4.predict(X_test)\n",
    "y_pred_ENR"
   ]
  },
  {
   "cell_type": "code",
   "execution_count": 131,
   "id": "e4e25b01",
   "metadata": {},
   "outputs": [
    {
     "name": "stdout",
     "output_type": "stream",
     "text": [
      "R-squared RFR: 0.8718890741891747\n",
      "Mean R-squared Cross-validation R-squared scores: 0.8261691750180506\n"
     ]
    }
   ],
   "source": [
    "# Evaluate the performance of the model on the test data using R-squared\n",
    "from sklearn.metrics import r2_score\n",
    "r2_RFR = r2_score(y_test, y_pred_RFR)\n",
    "print(\"R-squared RFR:\", r2_RFR)\n",
    "\n",
    "# cross validation using cross_val_score\n",
    "from sklearn.model_selection import cross_val_score\n",
    "cv_scores_RFR = cross_val_score(pipe, X_train, y_train, cv=15)\n",
    "print(\"Mean R-squared Cross-validation R-squared scores:\", cv_scores_RFR.mean())\n"
   ]
  },
  {
   "cell_type": "code",
   "execution_count": 132,
   "id": "b6a5e636",
   "metadata": {},
   "outputs": [
    {
     "name": "stdout",
     "output_type": "stream",
     "text": [
      "R-squared DTR: 0.9513093757774449\n",
      "Mean R-squared Cross-validation R-squared score: 0.6920999283196864\n"
     ]
    }
   ],
   "source": [
    "# Evaluate the performance of the model on the test data using R-squared\n",
    "from sklearn.metrics import r2_score\n",
    "r2_DTR = r2_score(y_test, y_pred_DTR)\n",
    "print(\"R-squared DTR:\", r2_DTR)\n",
    "\n",
    "# cross validation using cross_val_score\n",
    "from sklearn.model_selection import cross_val_score\n",
    "cv_scores_DTR = cross_val_score(pipe2, X_train, y_train, cv=15)\n",
    "print(\"Mean R-squared Cross-validation R-squared score:\", cv_scores_DTR.mean())"
   ]
  },
  {
   "cell_type": "code",
   "execution_count": 145,
   "id": "953b46a4",
   "metadata": {},
   "outputs": [
    {
     "name": "stdout",
     "output_type": "stream",
     "text": [
      "R-squared ABR: 0.9032347022426749\n",
      "Mean R-squared Cross-validation R-squared score: 0.7546804106241677\n"
     ]
    }
   ],
   "source": [
    "# Evaluate the performance of the model on the test data using R-squared\n",
    "from sklearn.metrics import r2_score\n",
    "r2_ABR = r2_score(y_test, y_pred_ABR)\n",
    "print(\"R-squared ABR:\", r2_ABR)\n",
    "\n",
    "# cross validation using cross_val_score\n",
    "from sklearn.model_selection import cross_val_score\n",
    "cv_scores_ABR = cross_val_score(pipe3, X_train, y_train, cv=15)\n",
    "print(\"Mean R-squared Cross-validation R-squared score:\", cv_scores_ABR.mean())"
   ]
  },
  {
   "cell_type": "code",
   "execution_count": 146,
   "id": "16a59a21",
   "metadata": {},
   "outputs": [
    {
     "name": "stdout",
     "output_type": "stream",
     "text": [
      "R-squared ENR: 0.7492263989711121\n",
      "Mean R-squared Cross-validation R-squared score: 0.7134493701557839\n"
     ]
    }
   ],
   "source": [
    "# Evaluate the performance of the model on the test data using R-squared\n",
    "from sklearn.metrics import r2_score\n",
    "r2_ENR = r2_score(y_test, y_pred_ENR)\n",
    "print(\"R-squared ENR:\", r2_ENR)\n",
    "\n",
    "# cross validation using cross_val_score\n",
    "from sklearn.model_selection import cross_val_score\n",
    "cv_scores_ENR = cross_val_score(pipe4, X_train, y_train, cv=15)\n",
    "print(\"Mean R-squared Cross-validation R-squared score:\", cv_scores_ENR.mean())"
   ]
  },
  {
   "cell_type": "code",
   "execution_count": 147,
   "id": "96584dcd",
   "metadata": {},
   "outputs": [
    {
     "data": {
      "image/png": "[encoded data removed]",
      "text/plain": [
       "<Figure size 1200x600 with 2 Axes>"
      ]
     },
     "metadata": {},
     "output_type": "display_data"
    }
   ],
   "source": [
    "import matplotlib.pyplot as plt\n",
    "\n",
    "# Set the figure size\n",
    "plt.figure(figsize=(12, 6))\n",
    "\n",
    "# Plot R-squared scores\n",
    "plt.subplot(1, 2, 1)\n",
    "plt.bar(['RandomForestRegressor', 'DecisionTreeRegressor','AdaBoost Regressor','ElasticNet Regression'], [r2_RFR, r2_DTR, r2_ABR, r2_ENR])\n",
    "plt.ylim(0,1)\n",
    "plt.title('R-squared Scores')\n",
    "plt.xticks(rotation=50)\n",
    "\n",
    "# Plot cross-validation scores\n",
    "plt.subplot(1, 2, 2)\n",
    "plt.bar(['RandomForestRegressor', 'DecisionTreeRegressor','AdaBoost Regressor','ElasticNet Regression'], [cv_scores_RFR.mean(), cv_scores_DTR.mean(), cv_scores_ABR.mean(), cv_scores_ENR.mean()])\n",
    "plt.ylim(0,1)\n",
    "plt.title('Cross-validation Scores')\n",
    "plt.xticks(rotation=50)\n",
    "\n",
    "\n",
    "# Display the plots\n",
    "plt.tight_layout()\n",
    "plt.show()\n"
   ]
  },
  {
   "cell_type": "code",
   "execution_count": 148,
   "id": "803fcdeb",
   "metadata": {},
   "outputs": [
    {
     "data": {
      "image/png": "[encoded data removed]",
      "text/plain": [
       "<Figure size 1200x600 with 1 Axes>"
      ]
     },
     "metadata": {},
     "output_type": "display_data"
    }
   ],
   "source": [
    "import matplotlib.pyplot as plt\n",
    "\n",
    "# Set the figure size\n",
    "plt.figure(figsize=(12, 6))\n",
    "\n",
    "# Plot R-squared scores\n",
    "plt.plot(['RandomForestRegressor', 'DecisionTreeRegressor', 'AdaBoostRegressor', 'ElasticNet Regression'], [r2_RFR, r2_DTR, r2_ABR, r2_ENR], marker='o', label='R-squared Scores')\n",
    "\n",
    "# Plot cross-validation scores\n",
    "plt.plot(['RandomForestRegressor', 'DecisionTreeRegressor', 'AdaBoostRegressor', 'ElasticNet Regression'], [cv_scores_RFR.mean(), cv_scores_DTR.mean(), cv_scores_ABR.mean(), cv_scores_ENR.mean()], marker='o', label='Cross-validation Scores')\n",
    "\n",
    "plt.ylim(0, 1)\n",
    "plt.title('Model Performance Comparison')\n",
    "plt.legend()\n",
    "plt.xticks(rotation=0)\n",
    "\n",
    "# Display the plots\n",
    "plt.tight_layout()\n",
    "plt.show()\n"
   ]
  },
  {
   "attachments": {},
   "cell_type": "markdown",
   "id": "9409afa0",
   "metadata": {},
   "source": [
    "### Save and load model"
   ]
  },
  {
   "cell_type": "code",
   "execution_count": 149,
   "id": "fb577153",
   "metadata": {},
   "outputs": [],
   "source": [
    "# export \n",
    "import pickle\n",
    "#pickle.dump(pipe,open('models/pipe3.pkl','wb'))\n",
    "#pickle.dump(pipe,open('models/model_DTR.pkl','wb'))"
   ]
  },
  {
   "cell_type": "code",
   "execution_count": 150,
   "id": "20c5557a",
   "metadata": {},
   "outputs": [],
   "source": [
    "#pipe = pickle.load(open('models/pipe3.pkl','rb'))"
   ]
  },
  {
   "cell_type": "code",
   "execution_count": 151,
   "id": "e9ccb520",
   "metadata": {},
   "outputs": [
    {
     "name": "stdout",
     "output_type": "stream",
     "text": [
      "            name brand  max power  max torque  fuel tank capacity  top speed  \\\n",
      "30  Hero Glamour  Hero      10.72        10.6                10.0       95.0   \n",
      "\n",
      "   front brake type  kerb weight  overall length  overall width  wheelbase  \\\n",
      "30             drum        122.0            2051          720.0       1273   \n",
      "\n",
      "    overall height  price  \n",
      "30            1074  79029  \n",
      "----------------------------------------------------------------------------------------\n",
      "      name     brand  max power  max torque  fuel tank capacity  top speed  \\\n",
      "110  Ninja  Kawasaki       44.7        37.0                14.0      169.0   \n",
      "\n",
      "    front brake type  kerb weight  overall length  overall width  wheelbase  \\\n",
      "110             disc        168.0            1990          710.0       1370   \n",
      "\n",
      "     overall height  \n",
      "110            1120  \n"
     ]
    }
   ],
   "source": [
    "features=[\"name\",\"brand\",\"max power\",\"max torque\" ,\"fuel tank capacity\",\"top speed\",\"front brake type\",\"kerb weight\",\"overall length\",\"overall width\",\"wheelbase\",\"overall height\",\"price\"]\n",
    "features_without_price =[\"name\",\"brand\",\"max power\",\"max torque\" ,\"fuel tank capacity\",\"top speed\",\"front brake type\",\"kerb weight\",\"overall length\",\"overall width\",\"wheelbase\",\"overall height\"]\n",
    "print(df[features].loc[[30], :])\n",
    "print(\"----------------------------------------------------------------------------------------\")\n",
    "print(df[features_without_price].loc[[110], :])"
   ]
  },
  {
   "cell_type": "code",
   "execution_count": 152,
   "id": "6feed917",
   "metadata": {},
   "outputs": [
    {
     "data": {
      "text/plain": [
       "array([['Hero Glamour', 'Hero', 10.72, 10.6, 10.0, 95.0, 'drum', 122.0,\n",
       "        2051, 720.0, 1273, 1074]], dtype=object)"
      ]
     },
     "execution_count": 152,
     "metadata": {},
     "output_type": "execute_result"
    }
   ],
   "source": [
    "test_input = df[features_without_price].loc[[30], :].to_numpy()\n",
    "test_input"
   ]
  },
  {
   "cell_type": "code",
   "execution_count": 153,
   "id": "0adad51f",
   "metadata": {},
   "outputs": [
    {
     "data": {
      "text/plain": [
       "array([80926.91])"
      ]
     },
     "execution_count": 153,
     "metadata": {},
     "output_type": "execute_result"
    }
   ],
   "source": [
    "pipe.predict(test_input)"
   ]
  },
  {
   "cell_type": "code",
   "execution_count": 154,
   "id": "a5d36327",
   "metadata": {},
   "outputs": [
    {
     "data": {
      "text/plain": [
       "array([78627.])"
      ]
     },
     "execution_count": 154,
     "metadata": {},
     "output_type": "execute_result"
    }
   ],
   "source": [
    "pipe2.predict(test_input)"
   ]
  },
  {
   "cell_type": "code",
   "execution_count": 155,
   "id": "f2a1224d",
   "metadata": {},
   "outputs": [
    {
     "data": {
      "text/plain": [
       "array([185521.62337662])"
      ]
     },
     "execution_count": 155,
     "metadata": {},
     "output_type": "execute_result"
    }
   ],
   "source": [
    "pipe3.predict(test_input)"
   ]
  },
  {
   "cell_type": "code",
   "execution_count": 177,
   "id": "4ca0f7d5",
   "metadata": {},
   "outputs": [
    {
     "name": "stdout",
     "output_type": "stream",
     "text": [
      "Bike Model Name: Honda Grazia\n",
      "Actual Price: 82398.00\n",
      "Predicted Price: 81155.87\n",
      "----------------------------------------\n",
      "Bike Model Name: Hero Splendor Plus Xtec\n",
      "Actual Price: 76381.00\n",
      "Predicted Price: 71723.05\n",
      "----------------------------------------\n",
      "Bike Model Name: Suzuki Gixxer\n",
      "Actual Price: 130718.00\n",
      "Predicted Price: 127737.83\n",
      "----------------------------------------\n",
      "Bike Model Name: Vespa SXL 125\n",
      "Actual Price: 134313.00\n",
      "Predicted Price: 132496.04\n",
      "----------------------------------------\n",
      "Bike Model Name: Yamaha R15 V4\n",
      "Actual Price: 180687.00\n",
      "Predicted Price: 178408.77\n",
      "----------------------------------------\n",
      "Bike Model Name: Hero Pleasure + Xtec\n",
      "Actual Price: 78913.00\n",
      "Predicted Price: 68982.92\n",
      "----------------------------------------\n"
     ]
    },
    {
     "data": {
      "image/png": "[encoded data removed]",
      "text/plain": [
       "<Figure size 1000x500 with 1 Axes>"
      ]
     },
     "metadata": {},
     "output_type": "display_data"
    }
   ],
   "source": [
    "import matplotlib.pyplot as plt\n",
    "import random\n",
    "\n",
    "# Get 6 random indices from the dataframe\n",
    "random_indices = random.sample(range(len(df)), 6)\n",
    "\n",
    "#Create empty lists for actual and predicted prices\n",
    "actual_prices = []\n",
    "predicted_prices = []\n",
    "\n",
    "# Loop through the selected indices and get the actual and predicted prices\n",
    "for i in random_indices:\n",
    "    # get the actual price\n",
    "    actual_price = df.loc[i, \"price\"]\n",
    "    \n",
    "    # Get the input features for the prediction\n",
    "    input_features = df.loc[i, features_without_price].to_numpy().reshape(1, -1)\n",
    "    \n",
    "    # Make the prediction\n",
    "    predicted_price = pipe.predict(input_features)[0]\n",
    "    \n",
    "    # Append the actual and predicted prices to the lists\n",
    "    actual_prices.append(actual_price)\n",
    "    predicted_prices.append(predicted_price)\n",
    "\n",
    "    # Print the results\n",
    "    print(f\"Bike Model Name: {df.loc[i, 'name']}\")\n",
    "    print(f\"Actual Price: {actual_price:.2f}\")\n",
    "    print(f\"Predicted Price: {predicted_price:.2f}\")\n",
    "    print(\"----------------------------------------\")\n",
    "\n",
    "# Create a list of labels for the x-axis\n",
    "x_labels = [df_updated.loc[i, 'name'] for i in random_indices]\n",
    "\n",
    "# Set the size of the figure\n",
    "plt.figure(figsize=(10, 5))\n",
    "\n",
    "# Create the line graph\n",
    "plt.plot(x_labels, actual_prices, label='Actual Price',marker=\"o\")\n",
    "plt.plot(x_labels, predicted_prices, label='Predicted Price',marker=\"o\")\n",
    "\n",
    "# Set the y-scale to a difference of 30000\n",
    "plt.ylim(min(actual_prices + predicted_prices) - 15000, max(actual_prices + predicted_prices) + 15000)\n",
    "\n",
    "# Change the y-axis tick labels to normal notation\n",
    "plt.ticklabel_format(axis='y', style='plain')\n",
    "\n",
    "# Add a legend and title\n",
    "plt.legend()\n",
    "plt.title('Actual vs Predicted Prices for 6 Random Samples on Random Forest Regressor Algorithm')\n",
    "plt.xticks(rotation=50)\n",
    "\n",
    "# Display the plot\n",
    "plt.show()"
   ]
  },
  {
   "cell_type": "code",
   "execution_count": null,
   "id": "7b4f90a4",
   "metadata": {},
   "outputs": [],
   "source": []
  }
 ],
 "metadata": {
  "kernelspec": {
   "display_name": "Python 3 (ipykernel)",
   "language": "python",
   "name": "python3"
  },
  "language_info": {
   "codemirror_mode": {
    "name": "ipython",
    "version": 3
   },
   "file_extension": ".py",
   "mimetype": "text/x-python",
   "name": "python",
   "nbconvert_exporter": "python",
   "pygments_lexer": "ipython3",
   "version": "3.9.13"
  }
 },
 "nbformat": 4,
 "nbformat_minor": 5
}
