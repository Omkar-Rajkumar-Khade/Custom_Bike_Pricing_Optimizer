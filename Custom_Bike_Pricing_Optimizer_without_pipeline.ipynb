{
 "cells": [
  {
   "cell_type": "code",
   "execution_count": 42,
   "id": "8a2b3992",
   "metadata": {},
   "outputs": [],
   "source": [
    "import pandas as pd\n",
    "import matplotlib.pyplot as plt\n",
    "import numpy as np\n",
    "from sklearn.model_selection import train_test_split\n",
    "from sklearn.compose import ColumnTransformer\n",
    "from sklearn.preprocessing import OneHotEncoder\n",
    "from sklearn.ensemble import GradientBoostingRegressor\n",
    "import shap  # Import SHAP\n",
    "import lime  # Import LIME\n",
    "import lime.lime_tabular"
   ]
  },
  {
   "cell_type": "code",
   "execution_count": 2,
   "id": "f27caca3",
   "metadata": {},
   "outputs": [
    {
     "data": {
      "text/html": [
       "<div>\n",
       "<style scoped>\n",
       "    .dataframe tbody tr th:only-of-type {\n",
       "        vertical-align: middle;\n",
       "    }\n",
       "\n",
       "    .dataframe tbody tr th {\n",
       "        vertical-align: top;\n",
       "    }\n",
       "\n",
       "    .dataframe thead th {\n",
       "        text-align: right;\n",
       "    }\n",
       "</style>\n",
       "<table border=\"1\" class=\"dataframe\">\n",
       "  <thead>\n",
       "    <tr style=\"text-align: right;\">\n",
       "      <th></th>\n",
       "      <th>Unnamed: 0</th>\n",
       "      <th>name</th>\n",
       "      <th>brand</th>\n",
       "      <th>price</th>\n",
       "      <th>max power</th>\n",
       "      <th>max torque</th>\n",
       "      <th>cooling system</th>\n",
       "      <th>transmission</th>\n",
       "      <th>transmission type</th>\n",
       "      <th>displacement</th>\n",
       "      <th>...</th>\n",
       "      <th>front tyre pressure (rider &amp; pillion)</th>\n",
       "      <th>rear tyre pressure (rider &amp; pillion)</th>\n",
       "      <th>kerb weight</th>\n",
       "      <th>overall length</th>\n",
       "      <th>overall width</th>\n",
       "      <th>wheelbase</th>\n",
       "      <th>ground clearance</th>\n",
       "      <th>seat height</th>\n",
       "      <th>overall height</th>\n",
       "      <th>chassis type</th>\n",
       "    </tr>\n",
       "  </thead>\n",
       "  <tbody>\n",
       "    <tr>\n",
       "      <th>0</th>\n",
       "      <td>0</td>\n",
       "      <td>Royal Enfield Hunter 350</td>\n",
       "      <td>Royal Enfield</td>\n",
       "      <td>149900</td>\n",
       "      <td>20.2</td>\n",
       "      <td>27.0</td>\n",
       "      <td>air/oil cooled</td>\n",
       "      <td>5 speed manual</td>\n",
       "      <td>chain drive</td>\n",
       "      <td>349.0</td>\n",
       "      <td>...</td>\n",
       "      <td>29.0</td>\n",
       "      <td>33.0</td>\n",
       "      <td>177.0</td>\n",
       "      <td>2055</td>\n",
       "      <td>800.0</td>\n",
       "      <td>1370</td>\n",
       "      <td>150.0</td>\n",
       "      <td>790</td>\n",
       "      <td>1055</td>\n",
       "      <td>double-downtube frame</td>\n",
       "    </tr>\n",
       "    <tr>\n",
       "      <th>1</th>\n",
       "      <td>1</td>\n",
       "      <td>Royal Enfield Classic 350</td>\n",
       "      <td>Royal Enfield</td>\n",
       "      <td>190229</td>\n",
       "      <td>20.2</td>\n",
       "      <td>27.0</td>\n",
       "      <td>air/oil cooled</td>\n",
       "      <td>5 speed manual</td>\n",
       "      <td>chain drive</td>\n",
       "      <td>349.0</td>\n",
       "      <td>...</td>\n",
       "      <td>22.0</td>\n",
       "      <td>32.0</td>\n",
       "      <td>195.0</td>\n",
       "      <td>2145</td>\n",
       "      <td>785.0</td>\n",
       "      <td>1390</td>\n",
       "      <td>170.0</td>\n",
       "      <td>805</td>\n",
       "      <td>1090</td>\n",
       "      <td>twin downtube spine frame</td>\n",
       "    </tr>\n",
       "    <tr>\n",
       "      <th>2</th>\n",
       "      <td>2</td>\n",
       "      <td>Royal Enfield Bullet 350</td>\n",
       "      <td>Royal Enfield</td>\n",
       "      <td>157391</td>\n",
       "      <td>19.1</td>\n",
       "      <td>28.0</td>\n",
       "      <td>air cooled</td>\n",
       "      <td>5 speed manual</td>\n",
       "      <td>chain drive</td>\n",
       "      <td>346.0</td>\n",
       "      <td>...</td>\n",
       "      <td>22.0</td>\n",
       "      <td>32.0</td>\n",
       "      <td>186.0</td>\n",
       "      <td>2170</td>\n",
       "      <td>810.0</td>\n",
       "      <td>1395</td>\n",
       "      <td>135.0</td>\n",
       "      <td>800</td>\n",
       "      <td>1120</td>\n",
       "      <td>single downtube,using engine as stressed member</td>\n",
       "    </tr>\n",
       "    <tr>\n",
       "      <th>3</th>\n",
       "      <td>3</td>\n",
       "      <td>Royal Enfield Continental GT 650</td>\n",
       "      <td>Royal Enfield</td>\n",
       "      <td>304945</td>\n",
       "      <td>47.0</td>\n",
       "      <td>52.0</td>\n",
       "      <td>air/oil cooled</td>\n",
       "      <td>6 speed manual</td>\n",
       "      <td>chain drive</td>\n",
       "      <td>648.0</td>\n",
       "      <td>...</td>\n",
       "      <td>32.0</td>\n",
       "      <td>39.0</td>\n",
       "      <td>198.0</td>\n",
       "      <td>2122</td>\n",
       "      <td>744.0</td>\n",
       "      <td>1398</td>\n",
       "      <td>174.0</td>\n",
       "      <td>793</td>\n",
       "      <td>1024</td>\n",
       "      <td>steel tubular, double cradle frame</td>\n",
       "    </tr>\n",
       "    <tr>\n",
       "      <th>4</th>\n",
       "      <td>4</td>\n",
       "      <td>Royal Enfield Meteor 350</td>\n",
       "      <td>Royal Enfield</td>\n",
       "      <td>200924</td>\n",
       "      <td>20.2</td>\n",
       "      <td>27.0</td>\n",
       "      <td>air/oil cooled</td>\n",
       "      <td>5 speed manual</td>\n",
       "      <td>chain drive</td>\n",
       "      <td>349.0</td>\n",
       "      <td>...</td>\n",
       "      <td>32.0</td>\n",
       "      <td>36.0</td>\n",
       "      <td>191.0</td>\n",
       "      <td>2140</td>\n",
       "      <td>845.0</td>\n",
       "      <td>1400</td>\n",
       "      <td>170.0</td>\n",
       "      <td>765</td>\n",
       "      <td>1140</td>\n",
       "      <td>twin downtube spine frame</td>\n",
       "    </tr>\n",
       "  </tbody>\n",
       "</table>\n",
       "<p>5 rows × 45 columns</p>\n",
       "</div>"
      ],
      "text/plain": [
       "   Unnamed: 0                              name          brand   price  \\\n",
       "0           0          Royal Enfield Hunter 350  Royal Enfield  149900   \n",
       "1           1         Royal Enfield Classic 350  Royal Enfield  190229   \n",
       "2           2          Royal Enfield Bullet 350  Royal Enfield  157391   \n",
       "3           3  Royal Enfield Continental GT 650  Royal Enfield  304945   \n",
       "4           4          Royal Enfield Meteor 350  Royal Enfield  200924   \n",
       "\n",
       "   max power  max torque  cooling system    transmission transmission type  \\\n",
       "0       20.2        27.0  air/oil cooled  5 speed manual       chain drive   \n",
       "1       20.2        27.0  air/oil cooled  5 speed manual       chain drive   \n",
       "2       19.1        28.0      air cooled  5 speed manual       chain drive   \n",
       "3       47.0        52.0  air/oil cooled  6 speed manual       chain drive   \n",
       "4       20.2        27.0  air/oil cooled  5 speed manual       chain drive   \n",
       "\n",
       "   displacement  ...  front tyre pressure (rider & pillion)  \\\n",
       "0         349.0  ...                                   29.0   \n",
       "1         349.0  ...                                   22.0   \n",
       "2         346.0  ...                                   22.0   \n",
       "3         648.0  ...                                   32.0   \n",
       "4         349.0  ...                                   32.0   \n",
       "\n",
       "   rear tyre pressure (rider & pillion)  kerb weight  overall length  \\\n",
       "0                                  33.0        177.0            2055   \n",
       "1                                  32.0        195.0            2145   \n",
       "2                                  32.0        186.0            2170   \n",
       "3                                  39.0        198.0            2122   \n",
       "4                                  36.0        191.0            2140   \n",
       "\n",
       "  overall width wheelbase ground clearance  seat height  overall height  \\\n",
       "0         800.0      1370            150.0          790            1055   \n",
       "1         785.0      1390            170.0          805            1090   \n",
       "2         810.0      1395            135.0          800            1120   \n",
       "3         744.0      1398            174.0          793            1024   \n",
       "4         845.0      1400            170.0          765            1140   \n",
       "\n",
       "                                      chassis type  \n",
       "0                            double-downtube frame  \n",
       "1                        twin downtube spine frame  \n",
       "2  single downtube,using engine as stressed member  \n",
       "3               steel tubular, double cradle frame  \n",
       "4                        twin downtube spine frame  \n",
       "\n",
       "[5 rows x 45 columns]"
      ]
     },
     "execution_count": 2,
     "metadata": {},
     "output_type": "execute_result"
    }
   ],
   "source": [
    "df=pd.read_csv(\"./Dataset/bikesCleaned.csv\")\n",
    "df.head()"
   ]
  },
  {
   "cell_type": "markdown",
   "id": "75a2b81c",
   "metadata": {},
   "source": [
    "## Data preprocessing"
   ]
  },
  {
   "cell_type": "markdown",
   "id": "cc06f17a",
   "metadata": {},
   "source": [
    "#### Using pandas_profiling EDA task"
   ]
  },
  {
   "cell_type": "code",
   "execution_count": null,
   "id": "e5d0d6e6",
   "metadata": {},
   "outputs": [],
   "source": [
    "# from pandas_profiling import ProfileReport\n",
    "# prof = ProfileReport(df)\n",
    "# prof.to_file(output_file='output.html')"
   ]
  },
  {
   "cell_type": "code",
   "execution_count": 3,
   "id": "b2aa7c0b",
   "metadata": {},
   "outputs": [
    {
     "data": {
      "text/plain": [
       "(173, 45)"
      ]
     },
     "execution_count": 3,
     "metadata": {},
     "output_type": "execute_result"
    }
   ],
   "source": [
    "df.shape"
   ]
  },
  {
   "cell_type": "code",
   "execution_count": 4,
   "id": "1d4286ac",
   "metadata": {},
   "outputs": [
    {
     "data": {
      "text/plain": [
       "Unnamed: 0                               173\n",
       "name                                     173\n",
       "brand                                    173\n",
       "price                                    173\n",
       "max power                                173\n",
       "max torque                               173\n",
       "cooling system                           173\n",
       "transmission                             173\n",
       "transmission type                        173\n",
       "displacement                             173\n",
       "cylinders                                173\n",
       "bore                                     173\n",
       "stroke                                   173\n",
       "valves per cylinder                      173\n",
       "spark plugs                              173\n",
       "gear shifting pattern                    173\n",
       "clutch                                   173\n",
       "fuel tank capacity                       173\n",
       "mileage - arai                            38\n",
       "mileage - owner reported                 110\n",
       "top speed                                173\n",
       "braking system                           173\n",
       "front brake type                         173\n",
       "front brake size                         173\n",
       "rear tyre size                           173\n",
       "tyre type                                173\n",
       "radial tyres                             173\n",
       "rear brake type                          173\n",
       "rear brake size                          173\n",
       "wheel type                               173\n",
       "front wheel size                         173\n",
       "rear wheel size                          173\n",
       "front tyre size                          173\n",
       "front tyre pressure (rider)              173\n",
       "rear tyre pressure (rider)               173\n",
       "front tyre pressure (rider & pillion)    173\n",
       "rear tyre pressure (rider & pillion)     173\n",
       "kerb weight                              173\n",
       "overall length                           173\n",
       "overall width                            173\n",
       "wheelbase                                173\n",
       "ground clearance                         173\n",
       "seat height                              173\n",
       "overall height                           173\n",
       "chassis type                             173\n",
       "dtype: int64"
      ]
     },
     "execution_count": 4,
     "metadata": {},
     "output_type": "execute_result"
    }
   ],
   "source": [
    "df.count()"
   ]
  },
  {
   "cell_type": "code",
   "execution_count": 5,
   "id": "905bc337",
   "metadata": {},
   "outputs": [
    {
     "data": {
      "text/plain": [
       "Unnamed: 0                               0.421257\n",
       "price                                    1.000000\n",
       "max power                                0.899191\n",
       "max torque                               0.849956\n",
       "displacement                             0.761933\n",
       "cylinders                                0.773806\n",
       "bore                                     0.553585\n",
       "stroke                                   0.092093\n",
       "valves per cylinder                      0.414588\n",
       "fuel tank capacity                       0.534874\n",
       "mileage - arai                          -0.826623\n",
       "mileage - owner reported                -0.319695\n",
       "top speed                                0.804045\n",
       "front brake size                         0.458746\n",
       "rear brake size                          0.501127\n",
       "front wheel size                         0.215903\n",
       "rear wheel size                          0.197237\n",
       "front tyre pressure (rider)              0.679589\n",
       "rear tyre pressure (rider)               0.600355\n",
       "front tyre pressure (rider & pillion)    0.690404\n",
       "rear tyre pressure (rider & pillion)     0.474506\n",
       "kerb weight                              0.641060\n",
       "overall length                           0.416538\n",
       "overall width                            0.442821\n",
       "wheelbase                                0.605229\n",
       "ground clearance                        -0.299757\n",
       "seat height                              0.274371\n",
       "overall height                           0.223178\n",
       "Name: price, dtype: float64"
      ]
     },
     "execution_count": 5,
     "metadata": {},
     "output_type": "execute_result"
    }
   ],
   "source": [
    "# find correlation of price with other features\n",
    "h=df.corr()['price']\n",
    "h"
   ]
  },
  {
   "cell_type": "code",
   "execution_count": 6,
   "id": "e50c68e7",
   "metadata": {},
   "outputs": [
    {
     "data": {
      "text/plain": [
       "price                                    1.000000\n",
       "max power                                0.899191\n",
       "max torque                               0.849956\n",
       "displacement                             0.761933\n",
       "cylinders                                0.773806\n",
       "bore                                     0.553585\n",
       "fuel tank capacity                       0.534874\n",
       "top speed                                0.804045\n",
       "rear brake size                          0.501127\n",
       "front tyre pressure (rider)              0.679589\n",
       "rear tyre pressure (rider)               0.600355\n",
       "front tyre pressure (rider & pillion)    0.690404\n",
       "kerb weight                              0.641060\n",
       "wheelbase                                0.605229\n",
       "Name: price, dtype: float64"
      ]
     },
     "execution_count": 6,
     "metadata": {},
     "output_type": "execute_result"
    }
   ],
   "source": [
    "# get features which has correlation of price with other features greater than 50%\n",
    "h = df.corr()['price']\n",
    "h = h[h > 0.5]\n",
    "h"
   ]
  },
  {
   "cell_type": "code",
   "execution_count": 7,
   "id": "7bf92e4e",
   "metadata": {},
   "outputs": [],
   "source": [
    "## selectd columns are name,brand,max power,max torque ,fuel tank capacity,top speed,kerb weight,overall_height,overall_lenght,overall_width,wheelbase,braking system\n",
    "columns=[\"name\",\"brand\",\"max power\",\"max torque\" ,\"fuel tank capacity\",\"top speed\",\"kerb weight\",\"overall height\",\"overall length\",\"overall width\",\"wheelbase\",\"front brake type\",\"price\"]"
   ]
  },
  {
   "cell_type": "code",
   "execution_count": 8,
   "id": "fae5b54c",
   "metadata": {},
   "outputs": [
    {
     "name": "stdout",
     "output_type": "stream",
     "text": [
      "['rear tyre pressure (rider & pillion)', 'front tyre pressure (rider)', 'rear tyre pressure (rider)', 'transmission', 'rear wheel size', 'front tyre size', 'cylinders', 'rear brake size', 'front wheel size', 'braking system', 'bore', 'seat height', 'stroke', 'clutch', 'chassis type', 'mileage - arai', 'radial tyres', 'mileage - owner reported', 'cooling system', 'rear brake type', 'displacement', 'front tyre pressure (rider & pillion)', 'front brake size', 'wheel type', 'gear shifting pattern', 'transmission type', 'valves per cylinder', 'ground clearance', 'Unnamed: 0', 'rear tyre size', 'tyre type', 'spark plugs']\n"
     ]
    }
   ],
   "source": [
    "# get remainnig columns other than selected columns\n",
    "remaining_cols = set(df.columns) - set(columns)\n",
    "print(list(remaining_cols))"
   ]
  },
  {
   "cell_type": "code",
   "execution_count": 9,
   "id": "862745a5",
   "metadata": {},
   "outputs": [],
   "source": [
    "# drop all remaining columns\n",
    "df_updated = df.drop(remaining_cols, axis=1)"
   ]
  },
  {
   "cell_type": "code",
   "execution_count": 10,
   "id": "81b9168d",
   "metadata": {},
   "outputs": [
    {
     "data": {
      "text/html": [
       "<div>\n",
       "<style scoped>\n",
       "    .dataframe tbody tr th:only-of-type {\n",
       "        vertical-align: middle;\n",
       "    }\n",
       "\n",
       "    .dataframe tbody tr th {\n",
       "        vertical-align: top;\n",
       "    }\n",
       "\n",
       "    .dataframe thead th {\n",
       "        text-align: right;\n",
       "    }\n",
       "</style>\n",
       "<table border=\"1\" class=\"dataframe\">\n",
       "  <thead>\n",
       "    <tr style=\"text-align: right;\">\n",
       "      <th></th>\n",
       "      <th>name</th>\n",
       "      <th>brand</th>\n",
       "      <th>price</th>\n",
       "      <th>max power</th>\n",
       "      <th>max torque</th>\n",
       "      <th>fuel tank capacity</th>\n",
       "      <th>top speed</th>\n",
       "      <th>front brake type</th>\n",
       "      <th>kerb weight</th>\n",
       "      <th>overall length</th>\n",
       "      <th>overall width</th>\n",
       "      <th>wheelbase</th>\n",
       "      <th>overall height</th>\n",
       "    </tr>\n",
       "  </thead>\n",
       "  <tbody>\n",
       "    <tr>\n",
       "      <th>0</th>\n",
       "      <td>Royal Enfield Hunter 350</td>\n",
       "      <td>Royal Enfield</td>\n",
       "      <td>149900</td>\n",
       "      <td>20.20</td>\n",
       "      <td>27.0</td>\n",
       "      <td>13.0</td>\n",
       "      <td>114.0</td>\n",
       "      <td>disc</td>\n",
       "      <td>177.0</td>\n",
       "      <td>2055</td>\n",
       "      <td>800.0</td>\n",
       "      <td>1370</td>\n",
       "      <td>1055</td>\n",
       "    </tr>\n",
       "    <tr>\n",
       "      <th>1</th>\n",
       "      <td>Royal Enfield Classic 350</td>\n",
       "      <td>Royal Enfield</td>\n",
       "      <td>190229</td>\n",
       "      <td>20.20</td>\n",
       "      <td>27.0</td>\n",
       "      <td>13.0</td>\n",
       "      <td>114.0</td>\n",
       "      <td>disc</td>\n",
       "      <td>195.0</td>\n",
       "      <td>2145</td>\n",
       "      <td>785.0</td>\n",
       "      <td>1390</td>\n",
       "      <td>1090</td>\n",
       "    </tr>\n",
       "    <tr>\n",
       "      <th>2</th>\n",
       "      <td>Royal Enfield Bullet 350</td>\n",
       "      <td>Royal Enfield</td>\n",
       "      <td>157391</td>\n",
       "      <td>19.10</td>\n",
       "      <td>28.0</td>\n",
       "      <td>13.5</td>\n",
       "      <td>110.0</td>\n",
       "      <td>disc</td>\n",
       "      <td>186.0</td>\n",
       "      <td>2170</td>\n",
       "      <td>810.0</td>\n",
       "      <td>1395</td>\n",
       "      <td>1120</td>\n",
       "    </tr>\n",
       "    <tr>\n",
       "      <th>3</th>\n",
       "      <td>Royal Enfield Continental GT 650</td>\n",
       "      <td>Royal Enfield</td>\n",
       "      <td>304945</td>\n",
       "      <td>47.00</td>\n",
       "      <td>52.0</td>\n",
       "      <td>12.5</td>\n",
       "      <td>169.0</td>\n",
       "      <td>disc</td>\n",
       "      <td>198.0</td>\n",
       "      <td>2122</td>\n",
       "      <td>744.0</td>\n",
       "      <td>1398</td>\n",
       "      <td>1024</td>\n",
       "    </tr>\n",
       "    <tr>\n",
       "      <th>4</th>\n",
       "      <td>Royal Enfield Meteor 350</td>\n",
       "      <td>Royal Enfield</td>\n",
       "      <td>200924</td>\n",
       "      <td>20.20</td>\n",
       "      <td>27.0</td>\n",
       "      <td>15.0</td>\n",
       "      <td>112.0</td>\n",
       "      <td>disc</td>\n",
       "      <td>191.0</td>\n",
       "      <td>2140</td>\n",
       "      <td>845.0</td>\n",
       "      <td>1400</td>\n",
       "      <td>1140</td>\n",
       "    </tr>\n",
       "    <tr>\n",
       "      <th>...</th>\n",
       "      <td>...</td>\n",
       "      <td>...</td>\n",
       "      <td>...</td>\n",
       "      <td>...</td>\n",
       "      <td>...</td>\n",
       "      <td>...</td>\n",
       "      <td>...</td>\n",
       "      <td>...</td>\n",
       "      <td>...</td>\n",
       "      <td>...</td>\n",
       "      <td>...</td>\n",
       "      <td>...</td>\n",
       "      <td>...</td>\n",
       "    </tr>\n",
       "    <tr>\n",
       "      <th>168</th>\n",
       "      <td>Vespa SXL 125</td>\n",
       "      <td>Vespa</td>\n",
       "      <td>134313</td>\n",
       "      <td>9.78</td>\n",
       "      <td>9.6</td>\n",
       "      <td>7.4</td>\n",
       "      <td>90.0</td>\n",
       "      <td>disc</td>\n",
       "      <td>114.0</td>\n",
       "      <td>1770</td>\n",
       "      <td>690.0</td>\n",
       "      <td>1290</td>\n",
       "      <td>1140</td>\n",
       "    </tr>\n",
       "    <tr>\n",
       "      <th>169</th>\n",
       "      <td>Vespa SXL 150</td>\n",
       "      <td>Vespa</td>\n",
       "      <td>148261</td>\n",
       "      <td>10.32</td>\n",
       "      <td>10.6</td>\n",
       "      <td>7.4</td>\n",
       "      <td>95.0</td>\n",
       "      <td>disc</td>\n",
       "      <td>114.0</td>\n",
       "      <td>1770</td>\n",
       "      <td>690.0</td>\n",
       "      <td>1290</td>\n",
       "      <td>1140</td>\n",
       "    </tr>\n",
       "    <tr>\n",
       "      <th>170</th>\n",
       "      <td>Vespa VXL 125</td>\n",
       "      <td>Vespa</td>\n",
       "      <td>130438</td>\n",
       "      <td>9.78</td>\n",
       "      <td>9.6</td>\n",
       "      <td>7.4</td>\n",
       "      <td>90.0</td>\n",
       "      <td>disc</td>\n",
       "      <td>114.0</td>\n",
       "      <td>1770</td>\n",
       "      <td>690.0</td>\n",
       "      <td>1290</td>\n",
       "      <td>1140</td>\n",
       "    </tr>\n",
       "    <tr>\n",
       "      <th>171</th>\n",
       "      <td>Vespa VXL 150</td>\n",
       "      <td>Vespa</td>\n",
       "      <td>143895</td>\n",
       "      <td>10.32</td>\n",
       "      <td>10.6</td>\n",
       "      <td>7.4</td>\n",
       "      <td>95.0</td>\n",
       "      <td>disc</td>\n",
       "      <td>114.0</td>\n",
       "      <td>1770</td>\n",
       "      <td>690.0</td>\n",
       "      <td>1290</td>\n",
       "      <td>1140</td>\n",
       "    </tr>\n",
       "    <tr>\n",
       "      <th>172</th>\n",
       "      <td>Vespa Elegante 150</td>\n",
       "      <td>Vespa</td>\n",
       "      <td>155927</td>\n",
       "      <td>10.32</td>\n",
       "      <td>10.6</td>\n",
       "      <td>7.4</td>\n",
       "      <td>100.0</td>\n",
       "      <td>disc</td>\n",
       "      <td>114.0</td>\n",
       "      <td>1770</td>\n",
       "      <td>690.0</td>\n",
       "      <td>1290</td>\n",
       "      <td>1140</td>\n",
       "    </tr>\n",
       "  </tbody>\n",
       "</table>\n",
       "<p>173 rows × 13 columns</p>\n",
       "</div>"
      ],
      "text/plain": [
       "                                 name          brand   price  max power  \\\n",
       "0            Royal Enfield Hunter 350  Royal Enfield  149900      20.20   \n",
       "1           Royal Enfield Classic 350  Royal Enfield  190229      20.20   \n",
       "2            Royal Enfield Bullet 350  Royal Enfield  157391      19.10   \n",
       "3    Royal Enfield Continental GT 650  Royal Enfield  304945      47.00   \n",
       "4            Royal Enfield Meteor 350  Royal Enfield  200924      20.20   \n",
       "..                                ...            ...     ...        ...   \n",
       "168                     Vespa SXL 125          Vespa  134313       9.78   \n",
       "169                     Vespa SXL 150          Vespa  148261      10.32   \n",
       "170                     Vespa VXL 125          Vespa  130438       9.78   \n",
       "171                     Vespa VXL 150          Vespa  143895      10.32   \n",
       "172                Vespa Elegante 150          Vespa  155927      10.32   \n",
       "\n",
       "     max torque  fuel tank capacity  top speed front brake type  kerb weight  \\\n",
       "0          27.0                13.0      114.0             disc        177.0   \n",
       "1          27.0                13.0      114.0             disc        195.0   \n",
       "2          28.0                13.5      110.0             disc        186.0   \n",
       "3          52.0                12.5      169.0             disc        198.0   \n",
       "4          27.0                15.0      112.0             disc        191.0   \n",
       "..          ...                 ...        ...              ...          ...   \n",
       "168         9.6                 7.4       90.0             disc        114.0   \n",
       "169        10.6                 7.4       95.0             disc        114.0   \n",
       "170         9.6                 7.4       90.0             disc        114.0   \n",
       "171        10.6                 7.4       95.0             disc        114.0   \n",
       "172        10.6                 7.4      100.0             disc        114.0   \n",
       "\n",
       "     overall length  overall width  wheelbase  overall height  \n",
       "0              2055          800.0       1370            1055  \n",
       "1              2145          785.0       1390            1090  \n",
       "2              2170          810.0       1395            1120  \n",
       "3              2122          744.0       1398            1024  \n",
       "4              2140          845.0       1400            1140  \n",
       "..              ...            ...        ...             ...  \n",
       "168            1770          690.0       1290            1140  \n",
       "169            1770          690.0       1290            1140  \n",
       "170            1770          690.0       1290            1140  \n",
       "171            1770          690.0       1290            1140  \n",
       "172            1770          690.0       1290            1140  \n",
       "\n",
       "[173 rows x 13 columns]"
      ]
     },
     "execution_count": 10,
     "metadata": {},
     "output_type": "execute_result"
    }
   ],
   "source": [
    "df_updated"
   ]
  },
  {
   "cell_type": "code",
   "execution_count": 11,
   "id": "684e7d41",
   "metadata": {},
   "outputs": [
    {
     "name": "stdout",
     "output_type": "stream",
     "text": [
      "<class 'pandas.core.frame.DataFrame'>\n",
      "RangeIndex: 173 entries, 0 to 172\n",
      "Data columns (total 13 columns):\n",
      " #   Column              Non-Null Count  Dtype  \n",
      "---  ------              --------------  -----  \n",
      " 0   name                173 non-null    object \n",
      " 1   brand               173 non-null    object \n",
      " 2   price               173 non-null    int64  \n",
      " 3   max power           173 non-null    float64\n",
      " 4   max torque          173 non-null    float64\n",
      " 5   fuel tank capacity  173 non-null    float64\n",
      " 6   top speed           173 non-null    float64\n",
      " 7   front brake type    173 non-null    object \n",
      " 8   kerb weight         173 non-null    float64\n",
      " 9   overall length      173 non-null    int64  \n",
      " 10  overall width       173 non-null    float64\n",
      " 11  wheelbase           173 non-null    int64  \n",
      " 12  overall height      173 non-null    int64  \n",
      "dtypes: float64(6), int64(4), object(3)\n",
      "memory usage: 17.7+ KB\n"
     ]
    }
   ],
   "source": [
    "df_updated.info()"
   ]
  },
  {
   "cell_type": "code",
   "execution_count": 12,
   "id": "13a75437",
   "metadata": {},
   "outputs": [
    {
     "name": "stdout",
     "output_type": "stream",
     "text": [
      "['disc' 'drum']\n",
      "Unique Count :  2\n"
     ]
    }
   ],
   "source": [
    "#unique values of front brake type feature\n",
    "print(df_updated[\"front brake type\"].unique())\n",
    "print(\"Unique Count : \",df_updated[\"front brake type\"].nunique())"
   ]
  },
  {
   "cell_type": "code",
   "execution_count": 13,
   "id": "e6e4f597",
   "metadata": {},
   "outputs": [
    {
     "name": "stdout",
     "output_type": "stream",
     "text": [
      "['Royal Enfield' 'TVS' 'Hero' 'Bajaj' 'Honda' 'Yamaha' 'Suzuki' 'KTM'\n",
      " 'Jawa' 'Kawasaki' 'Aprilia' 'Benelli' 'CFMoto' 'Ducati' 'Husqvarna'\n",
      " 'Triumph' 'Vespa']\n",
      "Unique Count :  17\n"
     ]
    }
   ],
   "source": [
    "#unique values of brand feature\n",
    "print(df_updated[\"brand\"].unique())\n",
    "print(\"Unique Count : \",df_updated[\"brand\"].nunique())"
   ]
  },
  {
   "cell_type": "code",
   "execution_count": 14,
   "id": "87354c48",
   "metadata": {},
   "outputs": [
    {
     "name": "stdout",
     "output_type": "stream",
     "text": [
      "['Royal Enfield Hunter 350' 'Royal Enfield Classic 350'\n",
      " 'Royal Enfield Bullet 350' 'Royal Enfield Continental GT 650'\n",
      " 'Royal Enfield Meteor 350' 'Royal Enfield Himalayan'\n",
      " 'Royal Enfield Interceptor 650' 'Royal Enfield Scram 411'\n",
      " 'TVS Raider 125' 'Apache' 'TVS Ronin' 'TVS Ntorq 125' 'TVS Sport'\n",
      " 'TVS Jupiter' 'TVS Jupiter 125' 'TVS Star City Plus' 'TVS Radeon'\n",
      " 'TVS Scooty Pep Plus' 'TVS XL100 Heavy Duty' 'TVS Scooty Zest 110'\n",
      " 'TVS XL100 Comfort' 'Splendor' 'Hero Splendor Plus Xtec' 'Hero HF Deluxe'\n",
      " 'Hero Xtreme 160R' 'Hero Glamour' 'Hero Passion Pro' 'Hero Xpulse 200 4V'\n",
      " 'Hero Pleasure +' 'Hero Passion Xtec' 'Hero Glamour Xtec'\n",
      " 'Hero Xpulse 200T 4V' 'Hero Xtreme 200S' 'Hero Pleasure + Xtec'\n",
      " 'Hero Maestro Edge 125' 'Hero Destini 125 Xtec' 'Hero Maestro Edge 110'\n",
      " 'Pulsar' 'Platina' 'Bajaj Dominar 400' 'Bajaj Dominar 250' 'Bajaj CT 110'\n",
      " 'Bajaj CT 125X' 'Avenger' 'Honda SP 125' 'Activa' 'Honda Shine'\n",
      " 'Honda Unicorn' 'Honda Dio' 'Honda Hornet 2.0' 'Honda Hness CB350'\n",
      " 'Honda Livo' 'Honda X-Blade' 'Honda CB300F' 'Honda CB350RS'\n",
      " 'Honda CB300R' 'Honda CD 110 Dream' 'CBR' 'Honda CB200X' 'Honda Grazia'\n",
      " 'Honda Goldwing' 'Honda Africa Twin' 'Honda CB650R' 'Yamaha MT 15 V2'\n",
      " 'Yamaha R15 V4' 'Yamaha FZ S FI' 'Yamaha FZ FI' 'Yamaha R15S'\n",
      " 'Yamaha FZ X' 'Yamaha FZ25' 'Yamaha Ray ZR 125' 'Yamaha Fascino 125'\n",
      " 'Yamaha Aerox 155' 'Suzuki Access 125' 'Suzuki Gixxer SF'\n",
      " 'Suzuki Burgman Street 125' 'Suzuki Gixxer' 'Suzuki Gixxer SF 250'\n",
      " 'Suzuki Gixxer 250' 'Suzuki Katana' 'Suzuki V-Strom 650 XT' 'Duke'\n",
      " 'KTM 390 Adventure' 'KTM 250 Adventure' 'Jawa 42' 'Jawa Standard' 'Ninja'\n",
      " 'Kawasaki Z900' 'Kawasaki Ninja 650' 'Kawasaki Z650' 'Kawasaki Vulcan S'\n",
      " 'Kawasaki Z H2' 'Kawasaki Z650RS' 'Kawasaki Versys 650' 'Kawasaki W800'\n",
      " 'Kawasaki Versys 1000' 'SR' 'Aprilia Storm 125' 'Aprilia SXR 160'\n",
      " 'Aprilia SXR 125' 'Aprilia RSV4 1100 Factory' 'Aprilia Tuono Factory'\n",
      " 'Benelli Imperiale 400' 'Benelli TRK 251' 'Benelli 502C'\n",
      " 'Benelli TRK 502X' 'Benelli TRK 502' 'Benelli Leoncino 500'\n",
      " 'CFMoto 300NK' 'CFMoto 650NK' 'CFMoto 650GT' 'CFMoto 650MT'\n",
      " 'Ducati Panigale V4' 'Ducati SuperSport' 'Ducati Monster BS6' 'Scrambler'\n",
      " 'Ducati Streetfighter V4' 'Ducati Panigale V2' 'Ducati XDiavel'\n",
      " 'Ducati Streetfighter V2' 'Ducati Diavel 1260' 'Ducati Hypermotard 950'\n",
      " 'Ducati Multistrada V4' 'Ducati Multistrada V2'\n",
      " 'Ducati Scrambler Desert Sled' 'Husqvarna Svartpilen 250'\n",
      " 'Husqvarna Vitpilen 250' 'Triumph Rocket 3' 'Triumph Trident 660'\n",
      " 'Triumph Speed Triple 1200 RS' 'Triumph Tiger 900' 'Bonneville'\n",
      " 'Triumph Speed Twin 900' 'Triumph Scrambler 900' 'Triumph Speed Twin'\n",
      " 'Triumph Bonneville T100' 'Triumph Tiger 850 Sport' 'Vespa ZX 125'\n",
      " 'Vespa SXL 125' 'Vespa SXL 150' 'Vespa VXL 125' 'Vespa VXL 150'\n",
      " 'Vespa Elegante 150']\n",
      "Unique Count :  143\n"
     ]
    }
   ],
   "source": [
    "#unique values of name feature\n",
    "print(df_updated[\"name\"].unique())\n",
    "print(\"Unique Count : \",df_updated[\"name\"].nunique())"
   ]
  },
  {
   "cell_type": "code",
   "execution_count": 15,
   "id": "0322638a",
   "metadata": {},
   "outputs": [],
   "source": [
    "# print(df_updated[\"name\"].unique())\n",
    "# print(\"Unique Count : \",df_updated[\"name\"].nunique())"
   ]
  },
  {
   "cell_type": "code",
   "execution_count": 16,
   "id": "72e2cf90",
   "metadata": {},
   "outputs": [
    {
     "data": {
      "text/plain": [
       "name                  0\n",
       "brand                 0\n",
       "price                 0\n",
       "max power             0\n",
       "max torque            0\n",
       "fuel tank capacity    0\n",
       "top speed             0\n",
       "front brake type      0\n",
       "kerb weight           0\n",
       "overall length        0\n",
       "overall width         0\n",
       "wheelbase             0\n",
       "overall height        0\n",
       "dtype: int64"
      ]
     },
     "execution_count": 16,
     "metadata": {},
     "output_type": "execute_result"
    }
   ],
   "source": [
    "#Null value check\n",
    "df_updated.isnull().sum()"
   ]
  },
  {
   "cell_type": "code",
   "execution_count": 17,
   "id": "2494c55c",
   "metadata": {},
   "outputs": [],
   "source": [
    "#define X and Y\n",
    "X=df_updated.drop(columns=['price'])\n",
    "y=df_updated['price']"
   ]
  },
  {
   "cell_type": "code",
   "execution_count": 18,
   "id": "4fdc0478",
   "metadata": {},
   "outputs": [],
   "source": [
    "# train/test/split\n",
    "X_train,X_test,y_train,y_test = train_test_split(X,y,test_size=0.2,random_state=42)\n"
   ]
  },
  {
   "cell_type": "code",
   "execution_count": 19,
   "id": "a3a4997c",
   "metadata": {},
   "outputs": [
    {
     "data": {
      "text/plain": [
       "(138, 12)"
      ]
     },
     "execution_count": 19,
     "metadata": {},
     "output_type": "execute_result"
    }
   ],
   "source": [
    "X_train.shape"
   ]
  },
  {
   "cell_type": "code",
   "execution_count": 20,
   "id": "a45ccd37",
   "metadata": {},
   "outputs": [
    {
     "data": {
      "text/plain": [
       "(35, 12)"
      ]
     },
     "execution_count": 20,
     "metadata": {},
     "output_type": "execute_result"
    }
   ],
   "source": [
    "X_test.shape"
   ]
  },
  {
   "cell_type": "markdown",
   "id": "a9ec5606",
   "metadata": {},
   "source": [
    "#### Encoding data"
   ]
  },
  {
   "cell_type": "code",
   "execution_count": 21,
   "id": "3435a79b",
   "metadata": {},
   "outputs": [],
   "source": [
    "# # OneHotEncoding -> name,brand,front brake type\n",
    "# ohe = OneHotEncoder()\n",
    "# X_train_ohe = ohe.fit_transform(X_train[[\"brand\",\"name\",\"front brake type\"]])\n",
    "\n",
    "# # also the test data\n",
    "# X_test_ohe = ohe.fit_transform(X_test[[\"brand\",\"name\",\"front brake type\"]])\n",
    "\n",
    "# print(X_train_ohe.shape)\n",
    "# print(X_test_ohe.shape)"
   ]
  },
  {
   "cell_type": "code",
   "execution_count": 22,
   "id": "cc0f44bb",
   "metadata": {},
   "outputs": [
    {
     "name": "stdout",
     "output_type": "stream",
     "text": [
      "(138, 159)\n",
      "(35, 159)\n"
     ]
    },
    {
     "name": "stderr",
     "output_type": "stream",
     "text": [
      "`sparse` was renamed to `sparse_output` in version 1.2 and will be removed in 1.4. `sparse_output` is ignored unless you leave `sparse` to its default value.\n"
     ]
    }
   ],
   "source": [
    "# OneHotEncoding -> name,brand,front brake type\n",
    "# Concatenate the train and test datasets for the categorical features\n",
    "cat_cols = ['brand','name', 'front brake type']\n",
    "cat_data = pd.concat([X_train[cat_cols], X_test[cat_cols]])\n",
    "\n",
    "# Fit the OneHotEncoder on the concatenated data\n",
    "ohe2 = OneHotEncoder(drop='first',sparse=False)\n",
    "ohe2.fit(cat_data)\n",
    "\n",
    "# Transform the train and test data separately\n",
    "X_train_ohe2 = ohe2.transform(X_train[cat_cols])\n",
    "X_test_ohe2 = ohe2.transform(X_test[cat_cols])\n",
    "print(X_train_ohe2.shape)\n",
    "print(X_test_ohe2.shape)"
   ]
  },
  {
   "cell_type": "code",
   "execution_count": 23,
   "id": "1c47a04f",
   "metadata": {},
   "outputs": [
    {
     "name": "stdout",
     "output_type": "stream",
     "text": [
      "(138, 9)\n",
      "(35, 9)\n"
     ]
    }
   ],
   "source": [
    "# Extracting rem columns\n",
    "X_train_rem = X_train.drop(columns=['brand','name','front brake type'])\n",
    "\n",
    "# also the test data\n",
    "X_test_rem = X_test.drop(columns=['brand','name','front brake type'])\n",
    "print(X_train_rem.shape)\n",
    "print(X_test_rem.shape)"
   ]
  },
  {
   "cell_type": "code",
   "execution_count": 24,
   "id": "4c8b47b3",
   "metadata": {},
   "outputs": [
    {
     "name": "stdout",
     "output_type": "stream",
     "text": [
      "(138, 168)\n",
      "(35, 168)\n"
     ]
    }
   ],
   "source": [
    "X_train_final = np.concatenate((X_train_ohe2,X_train_rem),axis=1)\n",
    "print(X_train_final.shape)\n",
    "# also the test data\n",
    "X_test_final = np.concatenate((X_test_ohe2,X_test_rem),axis=1)\n",
    "print(X_test_final.shape)"
   ]
  },
  {
   "cell_type": "markdown",
   "id": "3e7baef4",
   "metadata": {},
   "source": [
    "### Model Training "
   ]
  },
  {
   "cell_type": "markdown",
   "id": "451a7674",
   "metadata": {},
   "source": [
    "#### KNeighborsRegressor algorithm"
   ]
  },
  {
   "cell_type": "code",
   "execution_count": 29,
   "id": "09d4b69b",
   "metadata": {},
   "outputs": [
    {
     "data": {
      "text/plain": [
       "0.8957743281938995"
      ]
     },
     "execution_count": 29,
     "metadata": {},
     "output_type": "execute_result"
    }
   ],
   "source": [
    "#using KNeighborsRegressor algorithm\n",
    "from sklearn.neighbors import KNeighborsRegressor\n",
    "knn_reg = KNeighborsRegressor(n_neighbors=5)# Train the model on the training set\n",
    "knn_reg.fit(X_train_final, y_train)\n",
    "knn_reg.score(X_test_final, y_test)"
   ]
  },
  {
   "cell_type": "code",
   "execution_count": 30,
   "id": "9bc7d4c5",
   "metadata": {},
   "outputs": [
    {
     "data": {
      "text/plain": [
       "array([ 851015.2,   92745.8,   83614.2,   80938.2, 1151791. , 2125734.4,\n",
       "         80938.2,  162127.4, 1379269.6, 2027534.4,  123136.8,  160144.4,\n",
       "       1091927.2,   86795. ,   72356.2,   84789.6,  634799.6,  195072.2,\n",
       "         67554.4,  204706. ,  173541.8,  162211.6, 1377757.4,  141609.6,\n",
       "        114602.2,  192533.4, 1430591. ,   65477.2,  101437.6, 1812868.4,\n",
       "         78677.2,  128239.4,   84525. ,  780925.2, 1925312.8])"
      ]
     },
     "execution_count": 30,
     "metadata": {},
     "output_type": "execute_result"
    }
   ],
   "source": [
    "y_pred = knn_reg.predict(X_test_final)\n",
    "y_pred"
   ]
  },
  {
   "cell_type": "code",
   "execution_count": 31,
   "id": "01cba506",
   "metadata": {},
   "outputs": [
    {
     "name": "stdout",
     "output_type": "stream",
     "text": [
      "MSE =  63877086007.21144\n",
      "RMSE =  252739.16595417386\n"
     ]
    }
   ],
   "source": [
    "## Root mean square Error\n",
    "from sklearn.metrics import mean_squared_error\n",
    "#first finding mean square error using mean_squared_error class\n",
    "mse1 = mean_squared_error(y_test, y_pred)\n",
    "#finding Root mean square error using pandas\n",
    "rmse1 = np.sqrt(mse1)\n",
    "\n",
    "print('MSE = ', mse1)\n",
    "print('RMSE = ', rmse1)"
   ]
  },
  {
   "cell_type": "code",
   "execution_count": null,
   "id": "d001f681",
   "metadata": {},
   "outputs": [],
   "source": [
    "# cross validation using cross_val_score\n",
    "from sklearn.model_selection import cross_val_score\n",
    "cross_val_score(knn_reg, X_train_final, y_train, cv=10, ).mean()"
   ]
  },
  {
   "cell_type": "markdown",
   "id": "9fcdc54f",
   "metadata": {},
   "source": [
    "#### RandomForestRegressor algorithm"
   ]
  },
  {
   "cell_type": "code",
   "execution_count": 25,
   "id": "35fa91db",
   "metadata": {},
   "outputs": [
    {
     "data": {
      "text/plain": [
       "0.8516778824731456"
      ]
     },
     "execution_count": 25,
     "metadata": {},
     "output_type": "execute_result"
    }
   ],
   "source": [
    "## using RandomForestRegressor algorithm\n",
    "from sklearn.ensemble import RandomForestRegressor\n",
    "regressorRFR = RandomForestRegressor(n_estimators=100, criterion='squared_error')\n",
    "regressorRFR.fit(X_train_final, y_train)\n",
    "regressorRFR.score(X_test_final, y_test)"
   ]
  },
  {
   "cell_type": "code",
   "execution_count": 26,
   "id": "79faebd7",
   "metadata": {
    "scrolled": true
   },
   "outputs": [
    {
     "data": {
      "text/plain": [
       "array([1273251.91333333,  103012.63      ,   80777.92      ,\n",
       "         73498.32      ,  803402.91666667, 2055455.32      ,\n",
       "         72717.87      ,  141183.        , 2223984.25619048,\n",
       "       2845645.05      ,  123418.96      ,  119806.97      ,\n",
       "       1533823.84      ,   70398.24      ,   76720.04      ,\n",
       "        134031.54      ,  708750.96      ,  128489.35      ,\n",
       "         55821.7       ,  225936.89      ,  122245.67      ,\n",
       "        165779.25      , 1046498.27285714,  129531.8       ,\n",
       "         81778.84      ,  189875.17      , 2091110.44      ,\n",
       "         71362.71      ,   74429.48      , 2016914.16      ,\n",
       "         80692.92      ,  132499.29      ,   82152.99      ,\n",
       "       1473233.98      , 2215031.77      ])"
      ]
     },
     "execution_count": 26,
     "metadata": {},
     "output_type": "execute_result"
    }
   ],
   "source": [
    "y_pred_RFR = regressorRFR.predict(X_test_final)\n",
    "y_pred_RFR"
   ]
  },
  {
   "cell_type": "code",
   "execution_count": 27,
   "id": "4e23fa2c",
   "metadata": {},
   "outputs": [
    {
     "data": {
      "text/plain": [
       "0.7634097597073659"
      ]
     },
     "execution_count": 27,
     "metadata": {},
     "output_type": "execute_result"
    }
   ],
   "source": [
    "# cross validation using cross_val_score\n",
    "from sklearn.model_selection import cross_val_score\n",
    "cross_val_score(regressorRFR, X_train_final, y_train, cv=10, ).mean()"
   ]
  },
  {
   "cell_type": "code",
   "execution_count": 28,
   "id": "5c20da92",
   "metadata": {},
   "outputs": [
    {
     "name": "stdout",
     "output_type": "stream",
     "text": [
      "MSE =  90902600998.9225\n",
      "RMSE =  301500.58208720345\n"
     ]
    }
   ],
   "source": [
    "from sklearn.metrics import mean_squared_error\n",
    "#first finding mean square error using mean_squared_error class\n",
    "mse = mean_squared_error(y_test, y_pred_RFR)\n",
    "#finding Root mean square error using pandas\n",
    "rmse = np.sqrt(mse)\n",
    "\n",
    "print('MSE = ', mse)\n",
    "print('RMSE = ', rmse)"
   ]
  },
  {
   "cell_type": "markdown",
   "id": "19cbb8c2",
   "metadata": {},
   "source": [
    "### Save Model & load model for prediction"
   ]
  },
  {
   "cell_type": "code",
   "execution_count": 32,
   "id": "534d8229",
   "metadata": {},
   "outputs": [],
   "source": [
    "import pickle\n",
    "#pickle.dump(ohe2,open('models/ohe2.pkl','wb'))\n",
    "#pickle.dump(knn_reg,open('models/knn_reg_model.pkl','wb'))"
   ]
  },
  {
   "cell_type": "code",
   "execution_count": null,
   "id": "d768fed1",
   "metadata": {},
   "outputs": [],
   "source": [
    "ohe2 = pickle.load(open('models/ohe2.pkl','rb'))\n",
    "knn_reg_model = pickle.load(open('models/knn_reg_model.pkl','rb'))"
   ]
  },
  {
   "cell_type": "code",
   "execution_count": null,
   "id": "1fc564aa",
   "metadata": {},
   "outputs": [],
   "source": [
    "#features=[\"name\",\"brand\",\"max power\",\"max torque\" ,\"fuel tank capacity\",\"top speed\",\"kerb weight\",\"overall height\",\"overall length\",\"overall width\",\"wheelbase\",\"front brake type\"]\n",
    "#test_input = np.array([\"Yamaha FZ X\", \"Yamaha\", 12.2, 13.3, 10, 115, 139, 1115, 2020, 785, 1330, \"disc\"],dtype=object).reshape(1,12)"
   ]
  },
  {
   "cell_type": "code",
   "execution_count": 33,
   "id": "cc66dfab",
   "metadata": {},
   "outputs": [
    {
     "name": "stdout",
     "output_type": "stream",
     "text": [
      "            name brand  max power  max torque  fuel tank capacity  top speed  \\\n",
      "30  Hero Glamour  Hero      10.72        10.6                10.0       95.0   \n",
      "\n",
      "    kerb weight  overall height  overall length  overall width  wheelbase  \\\n",
      "30        122.0            1074            2051          720.0       1273   \n",
      "\n",
      "   front brake type  price  \n",
      "30             drum  79029  \n",
      "----------------------------------------------------------------------------------------\n",
      "            name brand  max power  max torque  fuel tank capacity  top speed  \\\n",
      "30  Hero Glamour  Hero      10.72        10.6                10.0       95.0   \n",
      "\n",
      "    kerb weight  overall height  overall length  overall width  wheelbase  \\\n",
      "30        122.0            1074            2051          720.0       1273   \n",
      "\n",
      "   front brake type  \n",
      "30             drum  \n"
     ]
    }
   ],
   "source": [
    "features=[\"name\",\"brand\",\"max power\",\"max torque\" ,\"fuel tank capacity\",\"top speed\",\"kerb weight\",\"overall height\",\"overall length\",\"overall width\",\"wheelbase\",\"front brake type\",\"price\"]\n",
    "features_without_price =[\"name\",\"brand\",\"max power\",\"max torque\" ,\"fuel tank capacity\",\"top speed\",\"kerb weight\",\"overall height\",\"overall length\",\"overall width\",\"wheelbase\",\"front brake type\"]\n",
    "print(df[features].loc[[30], :])\n",
    "print(\"----------------------------------------------------------------------------------------\")\n",
    "print(df[features_without_price].loc[[30], :])"
   ]
  },
  {
   "cell_type": "code",
   "execution_count": 34,
   "id": "392688cc",
   "metadata": {},
   "outputs": [
    {
     "data": {
      "text/plain": [
       "array([['Hero Glamour', 'Hero', 10.72, 10.6, 10.0, 95.0, 122.0, 1074,\n",
       "        2051, 720.0, 1273, 'drum']], dtype=object)"
      ]
     },
     "execution_count": 34,
     "metadata": {},
     "output_type": "execute_result"
    }
   ],
   "source": [
    "arr = df[features_without_price].loc[[30], :].to_numpy()\n",
    "arr"
   ]
  },
  {
   "cell_type": "code",
   "execution_count": 35,
   "id": "a98a1e68",
   "metadata": {},
   "outputs": [
    {
     "data": {
      "text/plain": [
       "array([['Hero Glamour', 'Hero', 10.72, 10.6, 10.0, 95.0, 122.0, 1074,\n",
       "        2051, 720.0, 1273, 'drum']], dtype=object)"
      ]
     },
     "execution_count": 35,
     "metadata": {},
     "output_type": "execute_result"
    }
   ],
   "source": [
    "test_input =arr\n",
    "test_input"
   ]
  },
  {
   "cell_type": "code",
   "execution_count": 36,
   "id": "971aedff",
   "metadata": {},
   "outputs": [
    {
     "data": {
      "text/plain": [
       "array([['Hero Glamour', 'Hero', 'drum']], dtype=object)"
      ]
     },
     "execution_count": 36,
     "metadata": {},
     "output_type": "execute_result"
    }
   ],
   "source": [
    "test_input[:, [0, 1, 11]]"
   ]
  },
  {
   "cell_type": "code",
   "execution_count": 37,
   "id": "9c474b42",
   "metadata": {},
   "outputs": [
    {
     "name": "stderr",
     "output_type": "stream",
     "text": [
      "X does not have valid feature names, but OneHotEncoder was fitted with feature names\n"
     ]
    },
    {
     "data": {
      "text/plain": [
       "(1, 159)"
      ]
     },
     "execution_count": 37,
     "metadata": {},
     "output_type": "execute_result"
    }
   ],
   "source": [
    "#['brand','name', 'front brake type']\n",
    "test_input_cat = ohe2.transform(test_input[:, [1, 0, 11]].reshape(1,3))\n",
    "test_input_cat.shape"
   ]
  },
  {
   "cell_type": "code",
   "execution_count": 38,
   "id": "a45c8c64",
   "metadata": {},
   "outputs": [
    {
     "data": {
      "text/plain": [
       "(1, 168)"
      ]
     },
     "execution_count": 38,
     "metadata": {},
     "output_type": "execute_result"
    }
   ],
   "source": [
    "test_input_final = np.concatenate((test_input[:,[2,3,4,5,6,7,8,9,10]],test_input_cat),axis=1)\n",
    "test_input_final.shape"
   ]
  },
  {
   "cell_type": "code",
   "execution_count": 39,
   "id": "55e8a027",
   "metadata": {},
   "outputs": [
    {
     "data": {
      "text/plain": [
       "array([62647.53])"
      ]
     },
     "execution_count": 39,
     "metadata": {},
     "output_type": "execute_result"
    }
   ],
   "source": [
    "regressorRFR.predict(test_input_final)"
   ]
  },
  {
   "cell_type": "markdown",
   "id": "e5296dc5",
   "metadata": {},
   "source": [
    "### Integration of xAI"
   ]
  },
  {
   "cell_type": "code",
   "execution_count": 41,
   "id": "324deab8",
   "metadata": {},
   "outputs": [
    {
     "name": "stderr",
     "output_type": "stream",
     "text": [
      "No data for colormapping provided via 'c'. Parameters 'vmin', 'vmax' will be ignored\n"
     ]
    },
    {
     "data": {
      "image/png": "[encoded data removed]",
      "text/plain": [
       "<Figure size 800x950 with 2 Axes>"
      ]
     },
     "metadata": {},
     "output_type": "display_data"
    }
   ],
   "source": [
    "\n",
    "# model = regressorRFR  \n",
    "\n",
    "# Initialize explainer with the training data\n",
    "explainer = shap.Explainer(regressorRFR)\n",
    "\n",
    "# Calculate SHAP values for a single prediction\n",
    "shap_values = explainer.shap_values(test_input_final)\n",
    "\n",
    "# Plot summary plot or force plot\n",
    "shap.summary_plot(shap_values, test_input_final)\n"
   ]
  },
  {
   "cell_type": "code",
   "execution_count": 48,
   "id": "00f5c702",
   "metadata": {},
   "outputs": [
    {
     "ename": "ValueError",
     "evalue": "operands could not be broadcast together with shapes (9,) (159,) ",
     "output_type": "error",
     "traceback": [
      "\u001b[1;31m---------------------------------------------------------------------------\u001b[0m",
      "\u001b[1;31mValueError\u001b[0m                                Traceback (most recent call last)",
      "\u001b[1;32m~\\AppData\\Local\\Temp\\ipykernel_8052\\2422051152.py\u001b[0m in \u001b[0;36m<module>\u001b[1;34m\u001b[0m\n\u001b[0;32m      9\u001b[0m \u001b[1;33m\u001b[0m\u001b[0m\n\u001b[0;32m     10\u001b[0m \u001b[1;31m# Use shap.summary_plot with feature names\u001b[0m\u001b[1;33m\u001b[0m\u001b[1;33m\u001b[0m\u001b[0m\n\u001b[1;32m---> 11\u001b[1;33m \u001b[0mshap\u001b[0m\u001b[1;33m.\u001b[0m\u001b[0msummary_plot\u001b[0m\u001b[1;33m(\u001b[0m\u001b[0mshap_values\u001b[0m\u001b[1;33m,\u001b[0m \u001b[0mtest_input_final\u001b[0m\u001b[1;33m,\u001b[0m \u001b[0mfeature_names\u001b[0m\u001b[1;33m=\u001b[0m\u001b[1;33m[\u001b[0m\u001b[1;34m'max power'\u001b[0m\u001b[1;33m,\u001b[0m \u001b[1;34m'max torque'\u001b[0m\u001b[1;33m,\u001b[0m \u001b[1;34m'fuel tank capacity'\u001b[0m\u001b[1;33m,\u001b[0m \u001b[1;34m'top speed'\u001b[0m\u001b[1;33m,\u001b[0m \u001b[1;34m'kerb weight'\u001b[0m\u001b[1;33m,\u001b[0m \u001b[1;34m'overall height'\u001b[0m\u001b[1;33m,\u001b[0m \u001b[1;34m'overall length'\u001b[0m\u001b[1;33m,\u001b[0m \u001b[1;34m'overall width'\u001b[0m\u001b[1;33m,\u001b[0m \u001b[1;34m'wheelbase'\u001b[0m\u001b[1;33m]\u001b[0m \u001b[1;33m+\u001b[0m \u001b[0mohe2\u001b[0m\u001b[1;33m.\u001b[0m\u001b[0mget_feature_names_out\u001b[0m\u001b[1;33m(\u001b[0m\u001b[1;33m[\u001b[0m\u001b[1;34m'brand'\u001b[0m\u001b[1;33m,\u001b[0m\u001b[1;34m'name'\u001b[0m\u001b[1;33m,\u001b[0m \u001b[1;34m'front brake type'\u001b[0m\u001b[1;33m]\u001b[0m\u001b[1;33m)\u001b[0m\u001b[1;33m)\u001b[0m\u001b[1;33m\u001b[0m\u001b[1;33m\u001b[0m\u001b[0m\n\u001b[0m\u001b[0;32m     12\u001b[0m \u001b[1;33m\u001b[0m\u001b[0m\n\u001b[0;32m     13\u001b[0m \u001b[1;31m# LIME Explanation\u001b[0m\u001b[1;33m\u001b[0m\u001b[1;33m\u001b[0m\u001b[0m\n",
      "\u001b[1;31mValueError\u001b[0m: operands could not be broadcast together with shapes (9,) (159,) "
     ]
    }
   ],
   "source": [
    "import shap\n",
    "from lime import lime_tabular\n",
    "\n",
    "# Assuming you have already loaded your models and data\n",
    "\n",
    "# SHAP Explanation\n",
    "explainer_shap = shap.Explainer(regressorRFR, X_train_final)\n",
    "shap_values = explainer_shap.shap_values(test_input_final)\n",
    "\n",
    "# Use shap.summary_plot with feature names\n",
    "shap.summary_plot(shap_values, test_input_final, feature_names=['max power', 'max torque', 'fuel tank capacity', 'top speed', 'kerb weight', 'overall height', 'overall length', 'overall width', 'wheelbase'] + ohe2.get_feature_names_out(['brand','name', 'front brake type']))\n",
    "\n",
    "# LIME Explanation\n",
    "explainer_lime = lime_tabular.LimeTabularExplainer(X_train_final, feature_names=['max power', 'max torque', 'fuel tank capacity', 'top speed', 'kerb weight', 'overall height', 'overall length', 'overall width', 'wheelbase'] + ohe2.get_feature_names_out(['brand','name', 'front brake type']))\n",
    "\n",
    "# Explain a specific instance with LIME\n",
    "lime_explanation = explainer_lime.explain_instance(test_input_final[0], regressorRFR.predict, num_features=10)\n",
    "\n",
    "# Show the LIME explanation\n",
    "lime_explanation.show_in_notebook(show_table=True)"
   ]
  },
  {
   "cell_type": "code",
   "execution_count": null,
   "id": "e32c49ba",
   "metadata": {},
   "outputs": [],
   "source": []
  }
 ],
 "metadata": {
  "kernelspec": {
   "display_name": "Python 3 (ipykernel)",
   "language": "python",
   "name": "python3"
  },
  "language_info": {
   "codemirror_mode": {
    "name": "ipython",
    "version": 3
   },
   "file_extension": ".py",
   "mimetype": "text/x-python",
   "name": "python",
   "nbconvert_exporter": "python",
   "pygments_lexer": "ipython3",
   "version": "3.9.13"
  }
 },
 "nbformat": 4,
 "nbformat_minor": 5
}
